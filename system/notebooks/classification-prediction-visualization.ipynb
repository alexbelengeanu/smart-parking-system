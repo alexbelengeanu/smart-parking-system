{
 "cells": [
  {
   "cell_type": "code",
   "execution_count": 1,
   "id": "f971cc49-3a4c-4334-bd8d-59a5609019ff",
   "metadata": {},
   "outputs": [],
   "source": [
    "from torch.utils.data import DataLoader\n",
    "from torch.utils.data import Subset\n",
    "from torchvision.transforms import ToTensor\n",
    "import torch\n",
    "from torchvision import transforms\n",
    "import cv2\n",
    "from PIL import Image\n",
    "import numpy as np\n",
    "\n",
    "import sys\n",
    "# insert at 1, 0 is the script path (or '' in REPL)\n",
    "sys.path.insert(1, r'E:\\GitHub\\smart-parking-system')\n",
    "from system.classification.model import CharacterClassifier"
   ]
  },
  {
   "cell_type": "code",
   "execution_count": 2,
   "id": "9af4824c-8b17-4de9-81f6-dc92dc317afd",
   "metadata": {},
   "outputs": [
    {
     "data": {
      "text/plain": [
       "CharacterClassifier(\n",
       "  (conv1): Conv2d(1, 32, kernel_size=(3, 3), stride=(1, 1), padding=(1, 1))\n",
       "  (pool): MaxPool2d(kernel_size=2, stride=2, padding=0, dilation=1, ceil_mode=False)\n",
       "  (conv2): Conv2d(32, 64, kernel_size=(3, 3), stride=(1, 1), padding=(1, 1))\n",
       "  (fc1): Linear(in_features=196608, out_features=512, bias=True)\n",
       "  (fc2): Linear(in_features=512, out_features=35, bias=True)\n",
       ")"
      ]
     },
     "execution_count": 2,
     "metadata": {},
     "output_type": "execute_result"
    }
   ],
   "source": [
    "# load the model and set it to evaluation mode\n",
    "model = CharacterClassifier().to(\"cuda\")\n",
    "model.load_state_dict(torch.load(r\"E:/GitHub/smart-parking-system/system/classification/training/experiment_v0.14/model_checkpoints/v0.14_e9_l0.074.pt\"))\n",
    "model.eval()"
   ]
  },
  {
   "cell_type": "code",
   "execution_count": 11,
   "id": "cbf4052a-3dc2-42a5-ab58-3c47da7c3261",
   "metadata": {},
   "outputs": [
    {
     "name": "stdout",
     "output_type": "stream",
     "text": [
      "tensor([19])\n"
     ]
    }
   ],
   "source": [
    "sample = Image.open(r'E:/GitHub/smart-parking-system/dataset/classification/J/22.png')\n",
    "transform = transforms.Compose([transforms.Grayscale(), transforms.ToTensor()])\n",
    "sample = transform(sample)\n",
    "sample = sample.unsqueeze(0)\n",
    "prediction = model(sample.cuda())\n",
    "print(torch.argmax(prediction.cpu(), axis=1))"
   ]
  },
  {
   "cell_type": "code",
   "execution_count": 12,
   "id": "7c8013e7-abe9-47c5-875b-11e672166246",
   "metadata": {},
   "outputs": [
    {
     "data": {
      "text/plain": [
       "tensor([[-13.1129, -29.7093,  -9.9241,  -6.3116, -34.4547, -56.0956, -60.4563,\n",
       "         -31.8101, -26.8738, -29.3732, -28.6857, -13.8699, -53.8935,  -2.6846,\n",
       "         -51.5830, -55.8316, -41.3139, -24.8790, -14.9755,  24.9632, -54.4282,\n",
       "         -28.3104, -25.0227, -31.1046, -23.8886, -47.3741, -45.2983, -41.2425,\n",
       "         -50.3158,  -5.0210,   1.2255, -52.6481, -30.7274, -34.1364, -21.4944]],\n",
       "       device='cuda:0', grad_fn=<AddmmBackward0>)"
      ]
     },
     "execution_count": 12,
     "metadata": {},
     "output_type": "execute_result"
    }
   ],
   "source": [
    "prediction"
   ]
  },
  {
   "cell_type": "code",
   "execution_count": null,
   "id": "dc42d623-2633-4f37-b48a-c9056c195ceb",
   "metadata": {},
   "outputs": [],
   "source": []
  }
 ],
 "metadata": {
  "kernelspec": {
   "display_name": "Python 3 (ipykernel)",
   "language": "python",
   "name": "python3"
  },
  "language_info": {
   "codemirror_mode": {
    "name": "ipython",
    "version": 3
   },
   "file_extension": ".py",
   "mimetype": "text/x-python",
   "name": "python",
   "nbconvert_exporter": "python",
   "pygments_lexer": "ipython3",
   "version": "3.10.7"
  }
 },
 "nbformat": 4,
 "nbformat_minor": 5
}
