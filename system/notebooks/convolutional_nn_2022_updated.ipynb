{
 "cells": [
  {
   "cell_type": "markdown",
   "metadata": {},
   "source": [
    "# Introduction to Convolutional Neural Networks - Image analysis"
   ]
  },
  {
   "cell_type": "markdown",
   "metadata": {},
   "source": [
    "## Overview \n",
    "\n",
    "This kernel is aimed at giving a simple understanding of a Convolutional Neural Network (CNN). This will be achieved in the following order:\n",
    "\n",
    "- Understanding the operation of convolution\n",
    "- A short look back Neural Networks\n",
    "- Data preprocessing\n",
    "- Understanding the Convolutional Neural Network used\n",
    "- Understanding Optimizers\n",
    "- Understanding ImageDataGenerator\n",
    "- Making the predictions and calculating the accuracy\n",
    "\n",
    "## What is Convolution?\n",
    "\n",
    "<b>Definition:</b>\n",
    "   - In mathematics, convolution is a mathematical operation between two functions (f and g) to produce a third function that expresses how the shape of one is modified by the other.\n",
    "\n",
    "<b>Utility:</b>\n",
    "   - Convolution is used in several areas such as probability, statistics, computer vision, natural language processing, image and signal processing, engineering, and differential equations.\n",
    "   \n",
    "<b>Mathematical representation:</b>\n",
    "   <img src=\"images/convolution_op.png\" width=\"300\" height=\"500\">    "
   ]
  },
  {
   "cell_type": "markdown",
   "metadata": {},
   "source": [
    "## What are Artificial Neural Networks?\n",
    "\n",
    "<b>Definition: </b>\n",
    "   - Artificial neural networks (ANN) or connectionist systems are computing systems vaguely inspired by the biological neural networks that constitute animal brains. Such systems \"learn\" to perform tasks by considering examples, generally without being programmed with any task-specific rules.\n",
    "   - An ANN is a collection of smaller processing units called the artificial neurons which loosely resemble the biological neuron.\n",
    "   - A collection of interconnected circuits make a network. </b>\n",
    "\n",
    "    <img src=\"images/nn.png\" width=\"300\" height=\"400\">\n",
    "\n",
    "   - In the image above:\n",
    "       - each circular node represents an artificial neuron.\n",
    "       - an arrow represents a connection from the output of one artificial neuron to the input of another."
   ]
  },
  {
   "cell_type": "markdown",
   "metadata": {},
   "source": [
    "## What are Convolutional Neural Networks"
   ]
  },
  {
   "cell_type": "markdown",
   "metadata": {},
   "source": [
    "<b>Definition:</b>\n",
    "   - In deep learning, a convolutional neural network (CNN, or ConvNet) is a class of artificial neural network (ANN), most commonly applied to analyze visual imagery.\n",
    "   - CNNs were inspired by biological processes in that the connectivity pattern between neurons resembles the organization of the animal visual cortex. \n",
    "   - A CNN architecture is formed by a stack of distinct layers that transform the input volume into an output volume through a differentiable function. A few distinct types of layers are commonly used. \n",
    "   \n",
    "<b>Convolutional layer:</b>\n",
    "   - The convolutional layer is the core building block of a CNN. The layer's parameters consist of a set of learnable filters (or kernels), which have a small receptive field, but extend through the full depth of the input volume. \n",
    "   - During the forward pass, each filter is convolved across the width and height of the input volume, computing the dot product between the filter entries and the input, producing a 2-dimensional activation map of that filter. As a result, the network learns filters that activate when it detects some specific type of feature at some spatial position in the input.\n",
    "      \n",
    "      <img src=\"https://miro.medium.com/max/1400/1*Fw-ehcNBR9byHtho-Rxbtw.gif\" width=\"500\" height=\"340\">\n",
    "      \n",
    "<b>Pooling Layer</b>\n",
    "   - There are several non-linear functions to implement pooling, where max pooling is the most common.\n",
    "   - It partitions the input image into a set of rectangles and, for each such sub-region, outputs the maximum.\n",
    "   \n",
    "   <img src=\"https://nico-curti.github.io/NumPyNet/NumPyNet/images/maxpool.gif\" width=\"500\" height=\"340\">"
   ]
  },
  {
   "cell_type": "markdown",
   "metadata": {},
   "source": [
    "# Understand CNN - Let's code!\n",
    "\n",
    "Solving classification problems:\n",
    "   - Handwriting recognition of Arabic Alphabets\n",
    "   - MNIST"
   ]
  },
  {
   "cell_type": "markdown",
   "metadata": {},
   "source": [
    "## Importing necesarry libraries"
   ]
  },
  {
   "cell_type": "code",
   "execution_count": 280,
   "metadata": {
    "ExecuteTime": {
     "end_time": "2022-05-12T14:45:35.354692Z",
     "start_time": "2022-05-12T14:45:35.337104Z"
    }
   },
   "outputs": [],
   "source": [
    "import numpy as np\n",
    "import pandas as pd\n",
    "import matplotlib.pyplot as plt\n",
    "import seaborn as sns\n",
    "\n",
    "import tflearn.data_utils as du\n",
    "from tensorflow.keras.models import Sequential\n",
    "from tensorflow.keras.layers import Dense, Dropout, Flatten, Conv2D, MaxPool2D\n",
    "from tensorflow.keras.optimizers import RMSprop\n",
    "from tensorflow.keras.preprocessing.image import ImageDataGenerator\n",
    "from sklearn.metrics import confusion_matrix\n",
    "from sklearn.model_selection import train_test_split\n",
    "from tensorflow.keras.callbacks import ReduceLROnPlateau \n",
    "from tensorflow.keras.optimizers import SGD\n",
    "import tensorflow as tf\n",
    "\n",
    "%matplotlib inline\n",
    "sns.set(style='white', context='notebook', palette='deep')\n",
    "np.set_printoptions(suppress=True)"
   ]
  },
  {
   "cell_type": "markdown",
   "metadata": {},
   "source": [
    "## Handwriting recognition of Arabic Alphabets\n",
    "\n",
    "### Loading the data set \n"
   ]
  },
  {
   "cell_type": "code",
   "execution_count": 281,
   "metadata": {
    "ExecuteTime": {
     "end_time": "2022-05-12T14:45:40.399433Z",
     "start_time": "2022-05-12T14:45:39.077224Z"
    }
   },
   "outputs": [],
   "source": [
    "train_data = pd.read_csv('dataset/arabic/csvTrainImages 13440x1024.csv', header = None)\n",
    "train_label = pd.read_csv('dataset/arabic/csvTrainLabel 13440x1.csv', header = None)\n",
    "test_data = pd.read_csv('dataset/arabic/csvTestImages 3360x1024.csv', header = None)\n",
    "test_label = pd.read_csv('dataset/arabic/csvTestLabel 3360x1.csv', header = None)"
   ]
  },
  {
   "cell_type": "code",
   "execution_count": 282,
   "metadata": {
    "ExecuteTime": {
     "end_time": "2022-05-12T14:45:40.403170Z",
     "start_time": "2022-05-12T14:45:40.401208Z"
    }
   },
   "outputs": [],
   "source": [
    "# train_label"
   ]
  },
  {
   "cell_type": "code",
   "execution_count": 283,
   "metadata": {
    "ExecuteTime": {
     "end_time": "2022-05-12T14:45:40.462827Z",
     "start_time": "2022-05-12T14:45:40.404807Z"
    }
   },
   "outputs": [
    {
     "name": "stdout",
     "output_type": "stream",
     "text": [
      "<class 'pandas.core.frame.DataFrame'>\n",
      "RangeIndex: 13440 entries, 0 to 13439\n",
      "Columns: 1024 entries, 0 to 1023\n",
      "dtypes: int64(1024)\n",
      "memory usage: 105.0 MB\n"
     ]
    }
   ],
   "source": [
    "train_data.info()"
   ]
  },
  {
   "cell_type": "code",
   "execution_count": 284,
   "metadata": {
    "ExecuteTime": {
     "end_time": "2022-05-12T14:45:40.500789Z",
     "start_time": "2022-05-12T14:45:40.464407Z"
    },
    "scrolled": true
   },
   "outputs": [
    {
     "name": "stdout",
     "output_type": "stream",
     "text": [
      "<class 'pandas.core.frame.DataFrame'>\n",
      "RangeIndex: 3360 entries, 0 to 3359\n",
      "Columns: 1024 entries, 0 to 1023\n",
      "dtypes: int64(1024)\n",
      "memory usage: 26.3 MB\n"
     ]
    }
   ],
   "source": [
    "test_data.info()"
   ]
  },
  {
   "cell_type": "code",
   "execution_count": 285,
   "metadata": {
    "ExecuteTime": {
     "end_time": "2022-05-12T14:45:42.676283Z",
     "start_time": "2022-05-12T14:45:40.502186Z"
    }
   },
   "outputs": [
    {
     "data": {
      "text/html": [
       "<div>\n",
       "<style scoped>\n",
       "    .dataframe tbody tr th:only-of-type {\n",
       "        vertical-align: middle;\n",
       "    }\n",
       "\n",
       "    .dataframe tbody tr th {\n",
       "        vertical-align: top;\n",
       "    }\n",
       "\n",
       "    .dataframe thead th {\n",
       "        text-align: right;\n",
       "    }\n",
       "</style>\n",
       "<table border=\"1\" class=\"dataframe\">\n",
       "  <thead>\n",
       "    <tr style=\"text-align: right;\">\n",
       "      <th></th>\n",
       "      <th>0</th>\n",
       "      <th>1</th>\n",
       "      <th>2</th>\n",
       "      <th>3</th>\n",
       "      <th>4</th>\n",
       "      <th>5</th>\n",
       "      <th>6</th>\n",
       "      <th>7</th>\n",
       "      <th>8</th>\n",
       "      <th>9</th>\n",
       "      <th>...</th>\n",
       "      <th>1014</th>\n",
       "      <th>1015</th>\n",
       "      <th>1016</th>\n",
       "      <th>1017</th>\n",
       "      <th>1018</th>\n",
       "      <th>1019</th>\n",
       "      <th>1020</th>\n",
       "      <th>1021</th>\n",
       "      <th>1022</th>\n",
       "      <th>1023</th>\n",
       "    </tr>\n",
       "  </thead>\n",
       "  <tbody>\n",
       "    <tr>\n",
       "      <th>count</th>\n",
       "      <td>13440.000000</td>\n",
       "      <td>13440.000000</td>\n",
       "      <td>13440.000000</td>\n",
       "      <td>13440.000000</td>\n",
       "      <td>13440.000000</td>\n",
       "      <td>13440.000000</td>\n",
       "      <td>13440.000000</td>\n",
       "      <td>13440.000000</td>\n",
       "      <td>13440.000000</td>\n",
       "      <td>13440.000000</td>\n",
       "      <td>...</td>\n",
       "      <td>13440.000000</td>\n",
       "      <td>13440.000000</td>\n",
       "      <td>13440.000000</td>\n",
       "      <td>13440.000000</td>\n",
       "      <td>13440.000000</td>\n",
       "      <td>13440.000000</td>\n",
       "      <td>13440.000000</td>\n",
       "      <td>13440.000000</td>\n",
       "      <td>13440.000000</td>\n",
       "      <td>13440.000000</td>\n",
       "    </tr>\n",
       "    <tr>\n",
       "      <th>mean</th>\n",
       "      <td>0.121577</td>\n",
       "      <td>0.021354</td>\n",
       "      <td>0.009747</td>\n",
       "      <td>0.011310</td>\n",
       "      <td>0.019048</td>\n",
       "      <td>0.005357</td>\n",
       "      <td>0.005060</td>\n",
       "      <td>0.020908</td>\n",
       "      <td>0.033333</td>\n",
       "      <td>0.042708</td>\n",
       "      <td>...</td>\n",
       "      <td>0.302455</td>\n",
       "      <td>0.221131</td>\n",
       "      <td>0.240774</td>\n",
       "      <td>0.295089</td>\n",
       "      <td>0.373512</td>\n",
       "      <td>0.355060</td>\n",
       "      <td>0.293080</td>\n",
       "      <td>0.242113</td>\n",
       "      <td>0.306176</td>\n",
       "      <td>0.931027</td>\n",
       "    </tr>\n",
       "    <tr>\n",
       "      <th>std</th>\n",
       "      <td>2.832336</td>\n",
       "      <td>0.956019</td>\n",
       "      <td>0.699926</td>\n",
       "      <td>0.826053</td>\n",
       "      <td>2.199600</td>\n",
       "      <td>0.621059</td>\n",
       "      <td>0.552589</td>\n",
       "      <td>1.438708</td>\n",
       "      <td>2.336252</td>\n",
       "      <td>2.397563</td>\n",
       "      <td>...</td>\n",
       "      <td>6.420500</td>\n",
       "      <td>4.900565</td>\n",
       "      <td>5.456679</td>\n",
       "      <td>5.841086</td>\n",
       "      <td>7.395038</td>\n",
       "      <td>7.146192</td>\n",
       "      <td>5.845676</td>\n",
       "      <td>4.902063</td>\n",
       "      <td>5.348576</td>\n",
       "      <td>8.753527</td>\n",
       "    </tr>\n",
       "    <tr>\n",
       "      <th>min</th>\n",
       "      <td>0.000000</td>\n",
       "      <td>0.000000</td>\n",
       "      <td>0.000000</td>\n",
       "      <td>0.000000</td>\n",
       "      <td>0.000000</td>\n",
       "      <td>0.000000</td>\n",
       "      <td>0.000000</td>\n",
       "      <td>0.000000</td>\n",
       "      <td>0.000000</td>\n",
       "      <td>0.000000</td>\n",
       "      <td>...</td>\n",
       "      <td>0.000000</td>\n",
       "      <td>0.000000</td>\n",
       "      <td>0.000000</td>\n",
       "      <td>0.000000</td>\n",
       "      <td>0.000000</td>\n",
       "      <td>0.000000</td>\n",
       "      <td>0.000000</td>\n",
       "      <td>0.000000</td>\n",
       "      <td>0.000000</td>\n",
       "      <td>0.000000</td>\n",
       "    </tr>\n",
       "    <tr>\n",
       "      <th>25%</th>\n",
       "      <td>0.000000</td>\n",
       "      <td>0.000000</td>\n",
       "      <td>0.000000</td>\n",
       "      <td>0.000000</td>\n",
       "      <td>0.000000</td>\n",
       "      <td>0.000000</td>\n",
       "      <td>0.000000</td>\n",
       "      <td>0.000000</td>\n",
       "      <td>0.000000</td>\n",
       "      <td>0.000000</td>\n",
       "      <td>...</td>\n",
       "      <td>0.000000</td>\n",
       "      <td>0.000000</td>\n",
       "      <td>0.000000</td>\n",
       "      <td>0.000000</td>\n",
       "      <td>0.000000</td>\n",
       "      <td>0.000000</td>\n",
       "      <td>0.000000</td>\n",
       "      <td>0.000000</td>\n",
       "      <td>0.000000</td>\n",
       "      <td>0.000000</td>\n",
       "    </tr>\n",
       "    <tr>\n",
       "      <th>50%</th>\n",
       "      <td>0.000000</td>\n",
       "      <td>0.000000</td>\n",
       "      <td>0.000000</td>\n",
       "      <td>0.000000</td>\n",
       "      <td>0.000000</td>\n",
       "      <td>0.000000</td>\n",
       "      <td>0.000000</td>\n",
       "      <td>0.000000</td>\n",
       "      <td>0.000000</td>\n",
       "      <td>0.000000</td>\n",
       "      <td>...</td>\n",
       "      <td>0.000000</td>\n",
       "      <td>0.000000</td>\n",
       "      <td>0.000000</td>\n",
       "      <td>0.000000</td>\n",
       "      <td>0.000000</td>\n",
       "      <td>0.000000</td>\n",
       "      <td>0.000000</td>\n",
       "      <td>0.000000</td>\n",
       "      <td>0.000000</td>\n",
       "      <td>0.000000</td>\n",
       "    </tr>\n",
       "    <tr>\n",
       "      <th>75%</th>\n",
       "      <td>0.000000</td>\n",
       "      <td>0.000000</td>\n",
       "      <td>0.000000</td>\n",
       "      <td>0.000000</td>\n",
       "      <td>0.000000</td>\n",
       "      <td>0.000000</td>\n",
       "      <td>0.000000</td>\n",
       "      <td>0.000000</td>\n",
       "      <td>0.000000</td>\n",
       "      <td>0.000000</td>\n",
       "      <td>...</td>\n",
       "      <td>0.000000</td>\n",
       "      <td>0.000000</td>\n",
       "      <td>0.000000</td>\n",
       "      <td>0.000000</td>\n",
       "      <td>0.000000</td>\n",
       "      <td>0.000000</td>\n",
       "      <td>0.000000</td>\n",
       "      <td>0.000000</td>\n",
       "      <td>0.000000</td>\n",
       "      <td>0.000000</td>\n",
       "    </tr>\n",
       "    <tr>\n",
       "      <th>max</th>\n",
       "      <td>128.000000</td>\n",
       "      <td>81.000000</td>\n",
       "      <td>59.000000</td>\n",
       "      <td>87.000000</td>\n",
       "      <td>255.000000</td>\n",
       "      <td>72.000000</td>\n",
       "      <td>64.000000</td>\n",
       "      <td>151.000000</td>\n",
       "      <td>236.000000</td>\n",
       "      <td>172.000000</td>\n",
       "      <td>...</td>\n",
       "      <td>255.000000</td>\n",
       "      <td>247.000000</td>\n",
       "      <td>255.000000</td>\n",
       "      <td>251.000000</td>\n",
       "      <td>255.000000</td>\n",
       "      <td>255.000000</td>\n",
       "      <td>244.000000</td>\n",
       "      <td>241.000000</td>\n",
       "      <td>224.000000</td>\n",
       "      <td>255.000000</td>\n",
       "    </tr>\n",
       "  </tbody>\n",
       "</table>\n",
       "<p>8 rows × 1024 columns</p>\n",
       "</div>"
      ],
      "text/plain": [
       "               0             1             2             3             4     \\\n",
       "count  13440.000000  13440.000000  13440.000000  13440.000000  13440.000000   \n",
       "mean       0.121577      0.021354      0.009747      0.011310      0.019048   \n",
       "std        2.832336      0.956019      0.699926      0.826053      2.199600   \n",
       "min        0.000000      0.000000      0.000000      0.000000      0.000000   \n",
       "25%        0.000000      0.000000      0.000000      0.000000      0.000000   \n",
       "50%        0.000000      0.000000      0.000000      0.000000      0.000000   \n",
       "75%        0.000000      0.000000      0.000000      0.000000      0.000000   \n",
       "max      128.000000     81.000000     59.000000     87.000000    255.000000   \n",
       "\n",
       "               5             6             7             8             9     \\\n",
       "count  13440.000000  13440.000000  13440.000000  13440.000000  13440.000000   \n",
       "mean       0.005357      0.005060      0.020908      0.033333      0.042708   \n",
       "std        0.621059      0.552589      1.438708      2.336252      2.397563   \n",
       "min        0.000000      0.000000      0.000000      0.000000      0.000000   \n",
       "25%        0.000000      0.000000      0.000000      0.000000      0.000000   \n",
       "50%        0.000000      0.000000      0.000000      0.000000      0.000000   \n",
       "75%        0.000000      0.000000      0.000000      0.000000      0.000000   \n",
       "max       72.000000     64.000000    151.000000    236.000000    172.000000   \n",
       "\n",
       "       ...          1014          1015          1016          1017  \\\n",
       "count  ...  13440.000000  13440.000000  13440.000000  13440.000000   \n",
       "mean   ...      0.302455      0.221131      0.240774      0.295089   \n",
       "std    ...      6.420500      4.900565      5.456679      5.841086   \n",
       "min    ...      0.000000      0.000000      0.000000      0.000000   \n",
       "25%    ...      0.000000      0.000000      0.000000      0.000000   \n",
       "50%    ...      0.000000      0.000000      0.000000      0.000000   \n",
       "75%    ...      0.000000      0.000000      0.000000      0.000000   \n",
       "max    ...    255.000000    247.000000    255.000000    251.000000   \n",
       "\n",
       "               1018          1019          1020          1021          1022  \\\n",
       "count  13440.000000  13440.000000  13440.000000  13440.000000  13440.000000   \n",
       "mean       0.373512      0.355060      0.293080      0.242113      0.306176   \n",
       "std        7.395038      7.146192      5.845676      4.902063      5.348576   \n",
       "min        0.000000      0.000000      0.000000      0.000000      0.000000   \n",
       "25%        0.000000      0.000000      0.000000      0.000000      0.000000   \n",
       "50%        0.000000      0.000000      0.000000      0.000000      0.000000   \n",
       "75%        0.000000      0.000000      0.000000      0.000000      0.000000   \n",
       "max      255.000000    255.000000    244.000000    241.000000    224.000000   \n",
       "\n",
       "               1023  \n",
       "count  13440.000000  \n",
       "mean       0.931027  \n",
       "std        8.753527  \n",
       "min        0.000000  \n",
       "25%        0.000000  \n",
       "50%        0.000000  \n",
       "75%        0.000000  \n",
       "max      255.000000  \n",
       "\n",
       "[8 rows x 1024 columns]"
      ]
     },
     "execution_count": 285,
     "metadata": {},
     "output_type": "execute_result"
    }
   ],
   "source": [
    "train_data.describe()"
   ]
  },
  {
   "cell_type": "code",
   "execution_count": 286,
   "metadata": {
    "ExecuteTime": {
     "end_time": "2022-05-12T14:45:42.739042Z",
     "start_time": "2022-05-12T14:45:42.677872Z"
    }
   },
   "outputs": [],
   "source": [
    "train_data = train_data.iloc[:,:].values.astype('float32')\n",
    "train_label = train_label.iloc[:,:].values.astype('int32') - 1\n",
    "test_data = test_data.iloc[:,:].values.astype('float32')\n",
    "test_label = test_label.iloc[:,:].values.astype('int32') - 1"
   ]
  },
  {
   "cell_type": "markdown",
   "metadata": {},
   "source": [
    "### Visualizing the data set"
   ]
  },
  {
   "cell_type": "code",
   "execution_count": 287,
   "metadata": {
    "ExecuteTime": {
     "end_time": "2022-05-12T14:45:42.743424Z",
     "start_time": "2022-05-12T14:45:42.740802Z"
    }
   },
   "outputs": [],
   "source": [
    "def row_calculator(number_of_images, number_of_columns):\n",
    "    if number_of_images % number_of_columns != 0:\n",
    "        return (number_of_images // number_of_columns) + 1\n",
    "    else:\n",
    "        return (number_of_images // number_of_columns)"
   ]
  },
  {
   "cell_type": "code",
   "execution_count": 288,
   "metadata": {
    "ExecuteTime": {
     "end_time": "2022-05-12T14:45:42.760730Z",
     "start_time": "2022-05-12T14:45:42.745147Z"
    }
   },
   "outputs": [],
   "source": [
    "def display_image(x, img_size, number_of_images):\n",
    "    plt.figure(figsize = (8, 7))\n",
    "    if x.shape[0] > 0:\n",
    "        n_samples = x.shape[0]\n",
    "        x = x.reshape(n_samples, img_size, img_size)\n",
    "        number_of_rows = row_calculator(number_of_images, 4)\n",
    "        for i in range(number_of_images):\n",
    "            plt.subplot(number_of_rows, 4, i+1)\n",
    "            plt.imshow(x[i])"
   ]
  },
  {
   "cell_type": "markdown",
   "metadata": {},
   "source": [
    "### The training set examples"
   ]
  },
  {
   "cell_type": "code",
   "execution_count": 289,
   "metadata": {
    "ExecuteTime": {
     "end_time": "2022-05-12T14:45:44.963159Z",
     "start_time": "2022-05-12T14:45:42.762581Z"
    }
   },
   "outputs": [
    {
     "data": {
      "image/png": "[encoded data removed]",
      "text/plain": [
       "<Figure size 576x504 with 16 Axes>"
      ]
     },
     "metadata": {},
     "output_type": "display_data"
    }
   ],
   "source": [
    "display_image(train_data, 32, 16)"
   ]
  },
  {
   "cell_type": "markdown",
   "metadata": {},
   "source": [
    "### The test set  examples"
   ]
  },
  {
   "cell_type": "code",
   "execution_count": 290,
   "metadata": {
    "ExecuteTime": {
     "end_time": "2022-05-12T14:45:47.176779Z",
     "start_time": "2022-05-12T14:45:44.964767Z"
    }
   },
   "outputs": [
    {
     "data": {
      "image/png": "[encoded data removed]",
      "text/plain": [
       "<Figure size 576x504 with 16 Axes>"
      ]
     },
     "metadata": {},
     "output_type": "display_data"
    }
   ],
   "source": [
    "display_image(test_data, 32, 16)"
   ]
  },
  {
   "cell_type": "markdown",
   "metadata": {},
   "source": [
    "### Data set preprocessing\n",
    "#### Encoding categorical variables \n",
    "\n",
    "<b> What are Categorical Variables? </b>\n",
    "   - In statistics, a categorical variable is a variable that can take on one of a limited, and usually fixed number of possible values, assigning each individual or other unit of observation to a particular group or nominal category on the basis of some qualitative property.\n",
    "   - In simple terms, the value of a categorical varibale, represents a category or a class."
   ]
  },
  {
   "cell_type": "code",
   "execution_count": 291,
   "metadata": {
    "ExecuteTime": {
     "end_time": "2022-05-12T14:45:47.181096Z",
     "start_time": "2022-05-12T14:45:47.178491Z"
    }
   },
   "outputs": [],
   "source": [
    "train_label = du.to_categorical(train_label, 28)"
   ]
  },
  {
   "cell_type": "code",
   "execution_count": 292,
   "metadata": {
    "ExecuteTime": {
     "end_time": "2022-05-12T14:45:47.198030Z",
     "start_time": "2022-05-12T14:45:47.182560Z"
    }
   },
   "outputs": [
    {
     "data": {
      "text/plain": [
       "(13440, 28)"
      ]
     },
     "execution_count": 292,
     "metadata": {},
     "output_type": "execute_result"
    }
   ],
   "source": [
    "train_label.shape"
   ]
  },
  {
   "cell_type": "markdown",
   "metadata": {},
   "source": [
    "#### Normalization\n",
    "<b> What is Normalization? </b>\n",
    "   - Normalization is done to bring the entire data into a well defined range, preferably between 0 and 1."
   ]
  },
  {
   "cell_type": "code",
   "execution_count": 293,
   "metadata": {
    "ExecuteTime": {
     "end_time": "2022-05-12T14:45:47.247858Z",
     "start_time": "2022-05-12T14:45:47.200380Z"
    }
   },
   "outputs": [],
   "source": [
    "train_data = train_data / 255\n",
    "test_data = test_data / 255"
   ]
  },
  {
   "cell_type": "markdown",
   "metadata": {},
   "source": [
    "Reshape the data to represent a 2D image."
   ]
  },
  {
   "cell_type": "code",
   "execution_count": 294,
   "metadata": {
    "ExecuteTime": {
     "end_time": "2022-05-12T14:45:47.251992Z",
     "start_time": "2022-05-12T14:45:47.249611Z"
    }
   },
   "outputs": [],
   "source": [
    "train_data = train_data.reshape([-1, 32, 32, 1])\n",
    "test_data = test_data.reshape([-1, 32, 32, 1])"
   ]
  },
  {
   "cell_type": "markdown",
   "metadata": {},
   "source": [
    "#### Split train data into train and validation sets\n",
    "Split the train data set in two parts: \n",
    "- 25% - validation set\n",
    "- 75% - train set"
   ]
  },
  {
   "cell_type": "code",
   "execution_count": 295,
   "metadata": {
    "ExecuteTime": {
     "end_time": "2022-05-12T14:45:47.349836Z",
     "start_time": "2022-05-12T14:45:47.253335Z"
    }
   },
   "outputs": [],
   "source": [
    "train_data, data_val, train_label, label_val = train_test_split(\n",
    "                                                    train_data,\n",
    "                                                    train_label,\n",
    "                                                    test_size = 0.25,\n",
    "                                                    random_state=20,\n",
    "                                                    shuffle=True)"
   ]
  },
  {
   "cell_type": "markdown",
   "metadata": {},
   "source": [
    "### Building the CNN "
   ]
  },
  {
   "cell_type": "code",
   "execution_count": 296,
   "metadata": {
    "ExecuteTime": {
     "end_time": "2022-05-12T14:45:47.354241Z",
     "start_time": "2022-05-12T14:45:47.351541Z"
    }
   },
   "outputs": [],
   "source": [
    "model = Sequential()"
   ]
  },
  {
   "cell_type": "code",
   "execution_count": 297,
   "metadata": {
    "ExecuteTime": {
     "end_time": "2022-05-12T14:45:47.637143Z",
     "start_time": "2022-05-12T14:45:47.355683Z"
    }
   },
   "outputs": [],
   "source": [
    "model.add(Conv2D(filters = 32,\n",
    "                 kernel_size = 5,\n",
    "                 padding = 'Same', \n",
    "                 activation ='relu', \n",
    "                 input_shape = (32, 32, 1)))\n",
    "model.add(Conv2D(filters = 32, \n",
    "                 kernel_size = (5, 5),\n",
    "                 padding = 'Same', \n",
    "                 activation ='relu'))\n",
    "model.add(MaxPool2D(pool_size=(2, 2)))\n",
    "model.add(Dropout(0.25))"
   ]
  },
  {
   "cell_type": "code",
   "execution_count": 298,
   "metadata": {
    "ExecuteTime": {
     "end_time": "2022-05-12T14:45:47.682796Z",
     "start_time": "2022-05-12T14:45:47.638990Z"
    }
   },
   "outputs": [],
   "source": [
    "model.add(Conv2D(filters = 64, \n",
    "                 kernel_size = (3, 3),\n",
    "                 padding = 'Same', \n",
    "                 activation ='relu'))\n",
    "model.add(Conv2D(filters = 64, \n",
    "                 kernel_size = (3, 3),\n",
    "                 padding = 'Same', \n",
    "                 activation ='relu'))\n",
    "model.add(MaxPool2D(pool_size=(2, 2),\n",
    "                    strides=(2, 2)))\n",
    "model.add(Dropout(0.25))"
   ]
  },
  {
   "cell_type": "code",
   "execution_count": 299,
   "metadata": {
    "ExecuteTime": {
     "end_time": "2022-05-12T14:45:47.740214Z",
     "start_time": "2022-05-12T14:45:47.684452Z"
    }
   },
   "outputs": [],
   "source": [
    "model.add(Flatten())\n",
    "model.add(Dense(units = 256, input_dim = 1024, activation = 'relu'))\n",
    "model.add(Dense(units = 256, activation = \"relu\"))\n",
    "model.add(Dropout(0.5))\n",
    "model.add(Dense(28, activation = \"softmax\"))"
   ]
  },
  {
   "cell_type": "markdown",
   "metadata": {},
   "source": [
    "#### Model summary"
   ]
  },
  {
   "cell_type": "code",
   "execution_count": 300,
   "metadata": {
    "ExecuteTime": {
     "end_time": "2022-05-12T14:45:47.748744Z",
     "start_time": "2022-05-12T14:45:47.741769Z"
    }
   },
   "outputs": [
    {
     "name": "stdout",
     "output_type": "stream",
     "text": [
      "_________________________________________________________________\n",
      "Layer (type)                 Output Shape              Param #   \n",
      "=================================================================\n",
      "conv2d (Conv2D)              (None, 32, 32, 32)        832       \n",
      "_________________________________________________________________\n",
      "conv2d_1 (Conv2D)            (None, 32, 32, 32)        25632     \n",
      "_________________________________________________________________\n",
      "max_pooling2d (MaxPooling2D) (None, 16, 16, 32)        0         \n",
      "_________________________________________________________________\n",
      "dropout (Dropout)            (None, 16, 16, 32)        0         \n",
      "_________________________________________________________________\n",
      "conv2d_2 (Conv2D)            (None, 16, 16, 64)        18496     \n",
      "_________________________________________________________________\n",
      "conv2d_3 (Conv2D)            (None, 16, 16, 64)        36928     \n",
      "_________________________________________________________________\n",
      "max_pooling2d_1 (MaxPooling2 (None, 8, 8, 64)          0         \n",
      "_________________________________________________________________\n",
      "dropout_1 (Dropout)          (None, 8, 8, 64)          0         \n",
      "_________________________________________________________________\n",
      "flatten (Flatten)            (None, 4096)              0         \n",
      "_________________________________________________________________\n",
      "dense (Dense)                (None, 256)               1048832   \n",
      "_________________________________________________________________\n",
      "dense_1 (Dense)              (None, 256)               65792     \n",
      "_________________________________________________________________\n",
      "dropout_2 (Dropout)          (None, 256)               0         \n",
      "_________________________________________________________________\n",
      "dense_2 (Dense)              (None, 28)                7196      \n",
      "=================================================================\n",
      "Total params: 1,203,708\n",
      "Trainable params: 1,203,708\n",
      "Non-trainable params: 0\n",
      "_________________________________________________________________\n"
     ]
    }
   ],
   "source": [
    "model.summary()"
   ]
  },
  {
   "cell_type": "markdown",
   "metadata": {},
   "source": [
    "#### What is Conv2D?\n",
    "   - Conv2D layer - is like a set of learnable filters. Each filter transform a part of the image (defined by the kernel size) using the kernel filter. The kernel filter matrix is applied on the whole image. Filters can be seen as a transformation of the image.\n",
    "   \n",
    "       <img src=\"https://miro.medium.com/max/1216/1*aRrWvkaLiCf_ryTkahsTeA.png\" width=\"500\" height=\"400\">\n",
    "\n",
    "   \n",
    "   <b>Conv2D Hyperparameters:</b>\n",
    "   - <i>Kernel size</i> - the number of pixels processed together.\n",
    "   - <i>Padding</i> - Padding is the addition of (typically) 0-valued pixels on the borders of an image. This is done so that the border pixels are not undervalued (lost) from the output because they would ordinarily participate in only a single receptive field instance. The padding applied is typically one less than the corresponding kernel dimension. For example, a convolutional layer using 3x3 kernels would receive a 2-pixel pad on all sides of the image.\n",
    "   - <i>Stride</i> - the number of pixels that the analysis window moves on each iteration. A stride of 2 means that each kernel is offset by 2 pixels from its predecessor.\n",
    "   - <i>Number of filters</i> - Since feature map size decreases with depth, layers near the input layer tend to have fewer filters while higher layers can have more. \n",
    "\n",
    "#### What is Max Pooling?\n",
    "   - Pooling means combining a set of data. The process of combining data follows some rules.\n",
    "   - By definition, it selects the maximum element from the region of the feature map covered by the filter. For this layer, the pooling size (the area size pooled each time) must be chosen.\n",
    "   - Max pooling is used to reduce the dimensions. It can also avoid overfitting.\n",
    "\n",
    "#### What is Dropout?\n",
    "   - Dropout is a regularization technique for reducing overfitting in neural networks. The term \"dropout\" refers to dropping out units (both hidden and visible) in a neural network. \n",
    "   - A proportion of nodes in the layer are randomly ignored (their weights are setted to zero). This forces the network to learn features in a distributed way and also drops a randomly proportion of the network.\n",
    "\n",
    "#### What is Flatten?\n",
    "   - Flattening is done to convert the multidimensional data into a single 1D feature vector to be used by the next layer which is the Dense Layer. It combines all the found local features on the previous convolutional layers. \n",
    "\n",
    "#### What is a Dense Layer?\n",
    "   - The Dense layer is just a layer of Artificial Neural Network\n",
    "  \n",
    "### Set the optimizer and LR \n",
    "\n",
    "#### What is an optimizer?\n",
    "   - Optimization algorithms helps us to minimize (or maximize) an Objective function (another name for Error function) E(x) which is simply a mathematical function dependent on the model’s internal learnable parameters which are used in computing the target values (Y) from the set of predictors (X) used in the model.\n",
    "\n",
    "#### What is learning rate?\n",
    "- The learning rate is a tuning parameter in an optimization algorithm that determines the step size at each iteration while moving toward a minimum of a loss function.\n",
    "- The learning rate determines how big a step is taken in that direction.\n",
    "\n",
    "#### What is a loss function?\n",
    "- Loss function is defined to measure how poorly our model performs on images with known labels. It represents the error rate between the oberved labels and the predicted ones."
   ]
  },
  {
   "cell_type": "code",
   "execution_count": 301,
   "metadata": {
    "ExecuteTime": {
     "end_time": "2022-05-12T14:45:47.773748Z",
     "start_time": "2022-05-12T14:45:47.750041Z"
    }
   },
   "outputs": [],
   "source": [
    "optimizer = RMSprop(lr=0.001, rho=0.9, epsilon=1e-08, decay=0.0)"
   ]
  },
  {
   "cell_type": "code",
   "execution_count": 302,
   "metadata": {
    "ExecuteTime": {
     "end_time": "2022-05-12T14:45:47.852430Z",
     "start_time": "2022-05-12T14:45:47.775531Z"
    }
   },
   "outputs": [],
   "source": [
    "model.compile(optimizer=\"RMSProp\",\n",
    "              loss = \"categorical_crossentropy\",\n",
    "              metrics=[\"accuracy\"])"
   ]
  },
  {
   "cell_type": "markdown",
   "metadata": {},
   "source": [
    "### Data augmentation\n",
    "\n",
    "- expand artificially the data set to avoid the overfitting problem\n",
    "- alter training data with small transformations to reproduce the variations occuring when someone is writing a letter.\n"
   ]
  },
  {
   "cell_type": "code",
   "execution_count": 303,
   "metadata": {
    "ExecuteTime": {
     "end_time": "2022-05-12T14:45:47.856476Z",
     "start_time": "2022-05-12T14:45:47.853916Z"
    }
   },
   "outputs": [],
   "source": [
    "datagen = ImageDataGenerator(\n",
    "            rotation_range=10, # randomly rotate images in the range (degrees, 0 to 180)\n",
    "            zoom_range = 0.1,  # randomly zoom image \n",
    "            width_shift_range=0.1, # randomly shift images horizontally (fraction of total width)\n",
    "            height_shift_range=0.1,  # randomly shift images vertically (fraction of total height)\n",
    "            horizontal_flip=False,\n",
    "            vertical_flip=False\n",
    "            )"
   ]
  },
  {
   "cell_type": "code",
   "execution_count": 304,
   "metadata": {
    "ExecuteTime": {
     "end_time": "2022-05-12T14:45:47.882164Z",
     "start_time": "2022-05-12T14:45:47.857743Z"
    }
   },
   "outputs": [],
   "source": [
    "datagen.fit(train_data)"
   ]
  },
  {
   "cell_type": "markdown",
   "metadata": {},
   "source": [
    "### Fitting the CNN to the training data"
   ]
  },
  {
   "cell_type": "code",
   "execution_count": 305,
   "metadata": {
    "ExecuteTime": {
     "end_time": "2022-05-12T14:46:48.774971Z",
     "start_time": "2022-05-12T14:45:48.623250Z"
    }
   },
   "outputs": [
    {
     "name": "stdout",
     "output_type": "stream",
     "text": [
      "Epoch 1/30\n",
      "3360/3360 [==============================] - 0s 82us/sample - loss: 1.5467 - acc: 0.5000\n",
      "101/101 [==============================] - 2s 22ms/step - loss: 2.6973 - acc: 0.1902 - val_loss: 1.5481 - val_acc: 0.5000\n",
      "Epoch 2/30\n",
      "3360/3360 [==============================] - 0s 43us/sample - loss: 0.8542 - acc: 0.7220\n",
      "101/101 [==============================] - 2s 19ms/step - loss: 1.6635 - acc: 0.4474 - val_loss: 0.8553 - val_acc: 0.7220\n",
      "Epoch 3/30\n",
      "3360/3360 [==============================] - 0s 41us/sample - loss: 0.5739 - acc: 0.8071\n",
      "101/101 [==============================] - 2s 19ms/step - loss: 1.1959 - acc: 0.5936 - val_loss: 0.5731 - val_acc: 0.8071\n",
      "Epoch 4/30\n",
      "3360/3360 [==============================] - 0s 44us/sample - loss: 0.6361 - acc: 0.7923\n",
      "101/101 [==============================] - 2s 20ms/step - loss: 0.9344 - acc: 0.6814 - val_loss: 0.6382 - val_acc: 0.7923\n",
      "Epoch 5/30\n",
      "3360/3360 [==============================] - 0s 42us/sample - loss: 0.4474 - acc: 0.8500\n",
      "101/101 [==============================] - 2s 21ms/step - loss: 0.7738 - acc: 0.7350 - val_loss: 0.4477 - val_acc: 0.8500\n",
      "Epoch 6/30\n",
      "3360/3360 [==============================] - 0s 45us/sample - loss: 0.2992 - acc: 0.9012\n",
      "101/101 [==============================] - 2s 20ms/step - loss: 0.6436 - acc: 0.7818 - val_loss: 0.2994 - val_acc: 0.9012\n",
      "Epoch 7/30\n",
      "3360/3360 [==============================] - 0s 43us/sample - loss: 0.3030 - acc: 0.9003\n",
      "101/101 [==============================] - 2s 19ms/step - loss: 0.5560 - acc: 0.8089 - val_loss: 0.3021 - val_acc: 0.9003\n",
      "Epoch 8/30\n",
      "3360/3360 [==============================] - 0s 42us/sample - loss: 0.2227 - acc: 0.9199\n",
      "101/101 [==============================] - 2s 21ms/step - loss: 0.4695 - acc: 0.8395 - val_loss: 0.2217 - val_acc: 0.9199\n",
      "Epoch 9/30\n",
      "3360/3360 [==============================] - 0s 44us/sample - loss: 0.1976 - acc: 0.9327\n",
      "101/101 [==============================] - 2s 19ms/step - loss: 0.4238 - acc: 0.8562 - val_loss: 0.1969 - val_acc: 0.9327\n",
      "Epoch 10/30\n",
      "3360/3360 [==============================] - 0s 41us/sample - loss: 0.2005 - acc: 0.9369\n",
      "101/101 [==============================] - 2s 20ms/step - loss: 0.3816 - acc: 0.8737 - val_loss: 0.1995 - val_acc: 0.9369\n",
      "Epoch 11/30\n",
      "3360/3360 [==============================] - 0s 41us/sample - loss: 0.2184 - acc: 0.9280\n",
      "101/101 [==============================] - 2s 19ms/step - loss: 0.3496 - acc: 0.8888 - val_loss: 0.2184 - val_acc: 0.9280\n",
      "Epoch 12/30\n",
      "3360/3360 [==============================] - 0s 43us/sample - loss: 0.1694 - acc: 0.9482\n",
      "101/101 [==============================] - 2s 19ms/step - loss: 0.3189 - acc: 0.9005 - val_loss: 0.1681 - val_acc: 0.9482\n",
      "Epoch 13/30\n",
      "3360/3360 [==============================] - 0s 43us/sample - loss: 0.1754 - acc: 0.9438\n",
      "101/101 [==============================] - 2s 20ms/step - loss: 0.2852 - acc: 0.9099 - val_loss: 0.1762 - val_acc: 0.9438\n",
      "Epoch 14/30\n",
      "3360/3360 [==============================] - 0s 45us/sample - loss: 0.1545 - acc: 0.9536\n",
      "101/101 [==============================] - 2s 19ms/step - loss: 0.2649 - acc: 0.9160 - val_loss: 0.1538 - val_acc: 0.9536\n",
      "Epoch 15/30\n",
      "3360/3360 [==============================] - 0s 43us/sample - loss: 0.1328 - acc: 0.9577\n",
      "101/101 [==============================] - 2s 19ms/step - loss: 0.2569 - acc: 0.9198 - val_loss: 0.1321 - val_acc: 0.9577\n",
      "Epoch 16/30\n",
      "3360/3360 [==============================] - 0s 43us/sample - loss: 0.1411 - acc: 0.9574\n",
      "101/101 [==============================] - 2s 20ms/step - loss: 0.2357 - acc: 0.9237 - val_loss: 0.1399 - val_acc: 0.9574\n",
      "Epoch 17/30\n",
      "3360/3360 [==============================] - 0s 41us/sample - loss: 0.1447 - acc: 0.9539\n",
      "101/101 [==============================] - 2s 19ms/step - loss: 0.2218 - acc: 0.9320 - val_loss: 0.1434 - val_acc: 0.9539\n",
      "Epoch 18/30\n",
      "3360/3360 [==============================] - 0s 43us/sample - loss: 0.1437 - acc: 0.9586\n",
      "101/101 [==============================] - 2s 20ms/step - loss: 0.2039 - acc: 0.9361 - val_loss: 0.1422 - val_acc: 0.9586\n",
      "Epoch 19/30\n",
      "3360/3360 [==============================] - 0s 43us/sample - loss: 0.1246 - acc: 0.9643\n",
      "101/101 [==============================] - 2s 20ms/step - loss: 0.1987 - acc: 0.9376 - val_loss: 0.1234 - val_acc: 0.9643\n",
      "Epoch 20/30\n",
      "3360/3360 [==============================] - 0s 42us/sample - loss: 0.1101 - acc: 0.9693\n",
      "101/101 [==============================] - 2s 20ms/step - loss: 0.1910 - acc: 0.9391 - val_loss: 0.1094 - val_acc: 0.9693\n",
      "Epoch 21/30\n",
      "3360/3360 [==============================] - 0s 42us/sample - loss: 0.1229 - acc: 0.9637\n",
      "101/101 [==============================] - 2s 19ms/step - loss: 0.1745 - acc: 0.9457 - val_loss: 0.1217 - val_acc: 0.9637\n",
      "Epoch 22/30\n",
      "3360/3360 [==============================] - 0s 43us/sample - loss: 0.0930 - acc: 0.9711\n",
      "101/101 [==============================] - 2s 19ms/step - loss: 0.1803 - acc: 0.9447 - val_loss: 0.0920 - val_acc: 0.9711\n",
      "Epoch 23/30\n",
      "3360/3360 [==============================] - 0s 41us/sample - loss: 0.1158 - acc: 0.9658\n",
      "101/101 [==============================] - 2s 18ms/step - loss: 0.1700 - acc: 0.9494 - val_loss: 0.1148 - val_acc: 0.9658\n",
      "Epoch 24/30\n",
      "3360/3360 [==============================] - 0s 41us/sample - loss: 0.1132 - acc: 0.9682\n",
      "101/101 [==============================] - 2s 20ms/step - loss: 0.1589 - acc: 0.9521 - val_loss: 0.1122 - val_acc: 0.9682\n",
      "Epoch 25/30\n",
      "3360/3360 [==============================] - 0s 44us/sample - loss: 0.1174 - acc: 0.9685\n",
      "101/101 [==============================] - 2s 19ms/step - loss: 0.1592 - acc: 0.9517 - val_loss: 0.1164 - val_acc: 0.9685\n",
      "Epoch 26/30\n",
      "3360/3360 [==============================] - 0s 42us/sample - loss: 0.1197 - acc: 0.9688\n",
      "101/101 [==============================] - 2s 19ms/step - loss: 0.1574 - acc: 0.9523 - val_loss: 0.1186 - val_acc: 0.9688\n",
      "Epoch 27/30\n",
      "3360/3360 [==============================] - 0s 43us/sample - loss: 0.1115 - acc: 0.9655\n",
      "101/101 [==============================] - 2s 19ms/step - loss: 0.1515 - acc: 0.9542 - val_loss: 0.1108 - val_acc: 0.9655\n",
      "Epoch 28/30\n",
      "3360/3360 [==============================] - 0s 42us/sample - loss: 0.1171 - acc: 0.9682\n",
      "101/101 [==============================] - 2s 19ms/step - loss: 0.1444 - acc: 0.9551 - val_loss: 0.1162 - val_acc: 0.9682\n",
      "Epoch 29/30\n",
      "3360/3360 [==============================] - 0s 42us/sample - loss: 0.1275 - acc: 0.9690\n",
      "101/101 [==============================] - 2s 19ms/step - loss: 0.1468 - acc: 0.9555 - val_loss: 0.1263 - val_acc: 0.9690\n",
      "Epoch 30/30\n",
      "3360/3360 [==============================] - 0s 41us/sample - loss: 0.1107 - acc: 0.9714\n",
      "101/101 [==============================] - 2s 19ms/step - loss: 0.1371 - acc: 0.9570 - val_loss: 0.1099 - val_acc: 0.9714\n"
     ]
    }
   ],
   "source": [
    "history = model.fit_generator(datagen.flow(train_data,\n",
    "                                           train_label,\n",
    "                                           batch_size=100),\n",
    "                    epochs=30, \n",
    "                    validation_data = (data_val, label_val),\n",
    "                    verbose=1, \n",
    "                    steps_per_epoch=train_data.shape[0] // 100)"
   ]
  },
  {
   "cell_type": "code",
   "execution_count": 306,
   "metadata": {
    "ExecuteTime": {
     "end_time": "2022-05-12T14:46:49.363881Z",
     "start_time": "2022-05-12T14:46:48.780104Z"
    }
   },
   "outputs": [
    {
     "data": {
      "image/png": "[encoded data removed]",
      "text/plain": [
       "<Figure size 432x288 with 2 Axes>"
      ]
     },
     "metadata": {},
     "output_type": "display_data"
    }
   ],
   "source": [
    "fig, ax = plt.subplots(2,1)\n",
    "ax[0].plot(history.history['loss'], \n",
    "           color='b', \n",
    "           label=\"Training loss\")\n",
    "ax[0].plot(history.history['val_loss'],\n",
    "           color='r', \n",
    "           label=\"Validation loss\",\n",
    "           axes =ax[0])\n",
    "legend = ax[0].legend(loc='best',\n",
    "                      shadow=True)\n",
    "\n",
    "ax[1].plot(history.history['acc'],\n",
    "           color='b', \n",
    "           label=\"Training accuracy\")\n",
    "ax[1].plot(history.history['val_acc'], \n",
    "           color='r',\n",
    "           label=\"Validation accuracy\")\n",
    "legend = ax[1].legend(loc='best', shadow=True)"
   ]
  },
  {
   "cell_type": "markdown",
   "metadata": {},
   "source": [
    "### Making the predictions"
   ]
  },
  {
   "cell_type": "code",
   "execution_count": 307,
   "metadata": {
    "ExecuteTime": {
     "end_time": "2022-05-12T14:46:49.651123Z",
     "start_time": "2022-05-12T14:46:49.365683Z"
    }
   },
   "outputs": [],
   "source": [
    "predictions = model.predict(test_data)\n",
    "predictions = np.argmax(predictions, axis=1)"
   ]
  },
  {
   "cell_type": "markdown",
   "metadata": {},
   "source": [
    "#### Generating a confusion matrix\n",
    "###### What is a Confusion matrix?\n",
    "- A confusion matrix is a technique for summarizing the performance of a classification algorithm. Classification accuracy alone can be misleading if you have an unequal number of observations in each class or if you have more than two classes in your dataset. Calculating a confusion matrix can give you a better idea of what your classification model is getting right and what types of errors it is making."
   ]
  },
  {
   "cell_type": "code",
   "execution_count": 308,
   "metadata": {
    "ExecuteTime": {
     "end_time": "2022-05-12T14:46:49.669226Z",
     "start_time": "2022-05-12T14:46:49.654542Z"
    }
   },
   "outputs": [],
   "source": [
    "cm = confusion_matrix(test_label, predictions)"
   ]
  },
  {
   "cell_type": "code",
   "execution_count": 309,
   "metadata": {
    "ExecuteTime": {
     "end_time": "2022-05-12T14:46:49.689508Z",
     "start_time": "2022-05-12T14:46:49.670926Z"
    }
   },
   "outputs": [],
   "source": [
    "labels = [\"1\", \"2\", \"3\", \"4\", \"5\", \"6\", \"7\", \"8\", \"9\", \"10\", \n",
    "          \"11\", \"12\", \"13\", \"14\", \"15\", \"16\", \"17\", \"18\", \"19\", \"20\", \n",
    "          \"21\", \"22\", \"23\", \"24\", \"25\", \"26\", \"27\", \"28\"]"
   ]
  },
  {
   "cell_type": "code",
   "execution_count": 310,
   "metadata": {
    "ExecuteTime": {
     "end_time": "2022-05-12T14:46:52.893348Z",
     "start_time": "2022-05-12T14:46:49.691884Z"
    }
   },
   "outputs": [
    {
     "data": {
      "text/plain": [
       "<matplotlib.axes._subplots.AxesSubplot at 0x7fa23039def0>"
      ]
     },
     "execution_count": 310,
     "metadata": {},
     "output_type": "execute_result"
    },
    {
     "data": {
      "image/png": "[encoded data removed]",
      "text/plain": [
       "<Figure size 2520x2520 with 2 Axes>"
      ]
     },
     "metadata": {},
     "output_type": "display_data"
    }
   ],
   "source": [
    "fig, ax = plt.subplots(figsize=(35, 35))\n",
    "sns.heatmap(cm, annot=True, linewidths=.5, ax=ax, fmt='')"
   ]
  },
  {
   "cell_type": "markdown",
   "metadata": {},
   "source": [
    "#### Calculating the accuracy\n",
    "- \"accuracy\" - metric function is used to evaluate the performance the model. This function usage is only for evaluation, the results are no used when training the model."
   ]
  },
  {
   "cell_type": "code",
   "execution_count": 311,
   "metadata": {
    "ExecuteTime": {
     "end_time": "2022-05-12T14:46:52.898591Z",
     "start_time": "2022-05-12T14:46:52.895000Z"
    }
   },
   "outputs": [
    {
     "name": "stdout",
     "output_type": "stream",
     "text": [
      "accuracy = 0.9702380952380952\n"
     ]
    }
   ],
   "source": [
    "accuracy = sum(cm[i][i] for i in range(28)) / test_label.shape[0]\n",
    "print(\"accuracy = \" + str(accuracy))"
   ]
  },
  {
   "cell_type": "code",
   "execution_count": 312,
   "metadata": {
    "ExecuteTime": {
     "end_time": "2022-05-12T14:46:52.912168Z",
     "start_time": "2022-05-12T14:46:52.900848Z"
    }
   },
   "outputs": [],
   "source": [
    "from sklearn.metrics import classification_report"
   ]
  },
  {
   "cell_type": "code",
   "execution_count": 313,
   "metadata": {
    "ExecuteTime": {
     "end_time": "2022-05-12T14:46:52.963298Z",
     "start_time": "2022-05-12T14:46:52.914180Z"
    }
   },
   "outputs": [
    {
     "name": "stdout",
     "output_type": "stream",
     "text": [
      "              precision    recall  f1-score   support\n",
      "\n",
      "           1       0.98      1.00      0.99       120\n",
      "           2       1.00      0.99      1.00       120\n",
      "           3       0.89      1.00      0.94       120\n",
      "           4       0.99      0.94      0.97       120\n",
      "           5       0.98      0.99      0.98       120\n",
      "           6       0.97      0.99      0.98       120\n",
      "           7       0.97      0.99      0.98       120\n",
      "           8       0.97      0.94      0.96       120\n",
      "           9       0.93      0.95      0.94       120\n",
      "          10       0.92      0.99      0.95       120\n",
      "          11       0.96      0.92      0.94       120\n",
      "          12       0.98      0.99      0.98       120\n",
      "          13       0.97      1.00      0.98       120\n",
      "          14       0.97      0.97      0.97       120\n",
      "          15       0.99      0.96      0.97       120\n",
      "          16       0.98      1.00      0.99       120\n",
      "          17       1.00      0.97      0.98       120\n",
      "          18       1.00      0.96      0.98       120\n",
      "          19       0.98      0.97      0.98       120\n",
      "          20       0.96      0.97      0.96       120\n",
      "          21       0.96      0.94      0.95       120\n",
      "          22       0.98      0.98      0.98       120\n",
      "          23       1.00      0.97      0.99       120\n",
      "          24       0.99      0.96      0.97       120\n",
      "          25       0.96      0.92      0.94       120\n",
      "          26       0.97      0.97      0.97       120\n",
      "          27       0.96      0.94      0.95       120\n",
      "          28       1.00      0.98      0.99       120\n",
      "\n",
      "    accuracy                           0.97      3360\n",
      "   macro avg       0.97      0.97      0.97      3360\n",
      "weighted avg       0.97      0.97      0.97      3360\n",
      "\n"
     ]
    }
   ],
   "source": [
    "print(classification_report(test_label, predictions, target_names=labels))"
   ]
  },
  {
   "cell_type": "code",
   "execution_count": 314,
   "metadata": {
    "ExecuteTime": {
     "end_time": "2022-05-12T14:46:53.772686Z",
     "start_time": "2022-05-12T14:46:52.964767Z"
    }
   },
   "outputs": [
    {
     "name": "stdout",
     "output_type": "stream",
     "text": [
      "10080/10080 [==============================] - 1s 79us/sample - loss: 0.0394 - acc: 0.9881\n"
     ]
    },
    {
     "data": {
      "text/plain": [
       "[0.03939251357926026, 0.9880952]"
      ]
     },
     "execution_count": 314,
     "metadata": {},
     "output_type": "execute_result"
    }
   ],
   "source": [
    "model.evaluate(train_data, train_label)"
   ]
  },
  {
   "cell_type": "code",
   "execution_count": 315,
   "metadata": {
    "ExecuteTime": {
     "end_time": "2022-05-12T14:46:54.059960Z",
     "start_time": "2022-05-12T14:46:53.775565Z"
    }
   },
   "outputs": [
    {
     "name": "stdout",
     "output_type": "stream",
     "text": [
      "3360/3360 [==============================] - 0s 82us/sample - loss: 0.1107 - acc: 0.9714\n"
     ]
    },
    {
     "data": {
      "text/plain": [
       "[0.11073292617996534, 0.9714286]"
      ]
     },
     "execution_count": 315,
     "metadata": {},
     "output_type": "execute_result"
    }
   ],
   "source": [
    "model.evaluate(data_val, label_val)"
   ]
  },
  {
   "cell_type": "code",
   "execution_count": 316,
   "metadata": {
    "ExecuteTime": {
     "end_time": "2022-05-12T14:46:54.066523Z",
     "start_time": "2022-05-12T14:46:54.062559Z"
    }
   },
   "outputs": [],
   "source": [
    "test_labels_cat = du.to_categorical(test_label, 28)"
   ]
  },
  {
   "cell_type": "code",
   "execution_count": 317,
   "metadata": {
    "ExecuteTime": {
     "end_time": "2022-05-12T14:46:54.393497Z",
     "start_time": "2022-05-12T14:46:54.068569Z"
    }
   },
   "outputs": [
    {
     "name": "stdout",
     "output_type": "stream",
     "text": [
      "3360/3360 [==============================] - 0s 83us/sample - loss: 0.1102 - acc: 0.9702\n"
     ]
    },
    {
     "data": {
      "text/plain": [
       "[0.11020134100468741, 0.9702381]"
      ]
     },
     "execution_count": 317,
     "metadata": {},
     "output_type": "execute_result"
    }
   ],
   "source": [
    "model.evaluate(test_data, test_labels_cat)"
   ]
  },
  {
   "cell_type": "markdown",
   "metadata": {},
   "source": [
    "## MNIST"
   ]
  },
  {
   "cell_type": "markdown",
   "metadata": {},
   "source": [
    "### Loading the dataset"
   ]
  },
  {
   "cell_type": "code",
   "execution_count": 318,
   "metadata": {
    "ExecuteTime": {
     "end_time": "2022-05-12T14:46:57.800752Z",
     "start_time": "2022-05-12T14:46:54.395845Z"
    }
   },
   "outputs": [],
   "source": [
    "train_data = pd.read_csv(\"dataset/mnist/train.csv\")\n",
    "test_data = pd.read_csv(\"dataset/mnist/test.csv\")"
   ]
  },
  {
   "cell_type": "code",
   "execution_count": 319,
   "metadata": {
    "ExecuteTime": {
     "end_time": "2022-05-12T14:46:57.953429Z",
     "start_time": "2022-05-12T14:46:57.802740Z"
    }
   },
   "outputs": [],
   "source": [
    "y_train = train_data['label']\n",
    "x_train = train_data.drop(labels = [\"label\"], axis=1)"
   ]
  },
  {
   "cell_type": "markdown",
   "metadata": {},
   "source": [
    "Labels are 10 digits numbers from 0 to 9."
   ]
  },
  {
   "cell_type": "code",
   "execution_count": 320,
   "metadata": {
    "ExecuteTime": {
     "end_time": "2022-05-12T14:46:57.973517Z",
     "start_time": "2022-05-12T14:46:57.955091Z"
    }
   },
   "outputs": [
    {
     "data": {
      "text/plain": [
       "1"
      ]
     },
     "execution_count": 320,
     "metadata": {},
     "output_type": "execute_result"
    }
   ],
   "source": [
    "y_train[0]"
   ]
  },
  {
   "cell_type": "code",
   "execution_count": 321,
   "metadata": {
    "ExecuteTime": {
     "end_time": "2022-05-12T14:46:58.154962Z",
     "start_time": "2022-05-12T14:46:57.975338Z"
    }
   },
   "outputs": [
    {
     "data": {
      "text/plain": [
       "1    4684\n",
       "7    4401\n",
       "3    4351\n",
       "9    4188\n",
       "2    4177\n",
       "6    4137\n",
       "0    4132\n",
       "4    4072\n",
       "8    4063\n",
       "5    3795\n",
       "Name: label, dtype: int64"
      ]
     },
     "execution_count": 321,
     "metadata": {},
     "output_type": "execute_result"
    },
    {
     "data": {
      "image/png": "[encoded data removed]",
      "text/plain": [
       "<Figure size 432x288 with 1 Axes>"
      ]
     },
     "metadata": {},
     "output_type": "display_data"
    }
   ],
   "source": [
    "g = sns.countplot(y_train)\n",
    "y_train.value_counts()"
   ]
  },
  {
   "cell_type": "markdown",
   "metadata": {},
   "source": [
    "### Check for null and missing values\n",
    "\n",
    "- check if there are corrupt images in the dataset"
   ]
  },
  {
   "cell_type": "code",
   "execution_count": 322,
   "metadata": {
    "ExecuteTime": {
     "end_time": "2022-05-12T14:46:58.503205Z",
     "start_time": "2022-05-12T14:46:58.156507Z"
    }
   },
   "outputs": [
    {
     "data": {
      "text/plain": [
       "count       784\n",
       "unique        1\n",
       "top       False\n",
       "freq        784\n",
       "dtype: object"
      ]
     },
     "execution_count": 322,
     "metadata": {},
     "output_type": "execute_result"
    }
   ],
   "source": [
    "x_train.isnull().any().describe()"
   ]
  },
  {
   "cell_type": "code",
   "execution_count": 323,
   "metadata": {
    "ExecuteTime": {
     "end_time": "2022-05-12T14:46:58.735365Z",
     "start_time": "2022-05-12T14:46:58.504616Z"
    }
   },
   "outputs": [
    {
     "data": {
      "text/plain": [
       "count       784\n",
       "unique        1\n",
       "top       False\n",
       "freq        784\n",
       "dtype: object"
      ]
     },
     "execution_count": 323,
     "metadata": {},
     "output_type": "execute_result"
    }
   ],
   "source": [
    "test_data.isnull().any().describe()"
   ]
  },
  {
   "cell_type": "markdown",
   "metadata": {},
   "source": [
    "### Dataset preprocessing"
   ]
  },
  {
   "cell_type": "markdown",
   "metadata": {},
   "source": [
    "#### Normalization"
   ]
  },
  {
   "cell_type": "code",
   "execution_count": 324,
   "metadata": {
    "ExecuteTime": {
     "end_time": "2022-05-12T14:46:59.403410Z",
     "start_time": "2022-05-12T14:46:58.736824Z"
    }
   },
   "outputs": [],
   "source": [
    "x_train = x_train / 255.0\n",
    "test_data = test_data / 255.0"
   ]
  },
  {
   "cell_type": "markdown",
   "metadata": {},
   "source": [
    "#### Reshape"
   ]
  },
  {
   "cell_type": "code",
   "execution_count": 325,
   "metadata": {
    "ExecuteTime": {
     "end_time": "2022-05-12T14:46:59.407877Z",
     "start_time": "2022-05-12T14:46:59.405160Z"
    }
   },
   "outputs": [],
   "source": [
    "# (height = 28px, width=28px, canal=1)\n",
    "x_train = x_train.values.reshape(-1, 28, 28, 1)\n",
    "test_data = test_data.values.reshape(-1, 28, 28, 1)"
   ]
  },
  {
   "cell_type": "markdown",
   "metadata": {},
   "source": [
    "#### Label enconding"
   ]
  },
  {
   "cell_type": "code",
   "execution_count": 328,
   "metadata": {
    "ExecuteTime": {
     "end_time": "2022-05-12T14:46:59.491381Z",
     "start_time": "2022-05-12T14:46:59.458686Z"
    }
   },
   "outputs": [],
   "source": [
    "# convert labels to one hot vectors\n",
    "from tensorflow.keras.utils import to_categorical\n",
    "y_train = to_categorical(y_train, num_classes = 10)"
   ]
  },
  {
   "cell_type": "code",
   "execution_count": 327,
   "metadata": {
    "ExecuteTime": {
     "end_time": "2022-05-12T14:46:59.456961Z",
     "start_time": "2022-05-12T14:46:59.444480Z"
    }
   },
   "outputs": [
    {
     "data": {
      "text/plain": [
       "array([0., 1., 0., 0., 0., 0., 0., 0., 0., 0.], dtype=float32)"
      ]
     },
     "execution_count": 327,
     "metadata": {},
     "output_type": "execute_result"
    }
   ],
   "source": [
    "y_train[0]"
   ]
  },
  {
   "cell_type": "markdown",
   "metadata": {},
   "source": [
    "#### Split training and validation set"
   ]
  },
  {
   "cell_type": "markdown",
   "metadata": {},
   "source": [
    "Split the train data set in two parts: \n",
    "- 25% - validation set\n",
    "- 75% - train set"
   ]
  },
  {
   "cell_type": "code",
   "execution_count": 250,
   "metadata": {
    "ExecuteTime": {
     "end_time": "2022-05-12T14:13:42.922634Z",
     "start_time": "2022-05-12T14:13:42.408116Z"
    }
   },
   "outputs": [],
   "source": [
    "x_train, x_val, y_train, y_val = train_test_split(x_train,\n",
    "                                                  y_train,\n",
    "                                                  test_size = 0.25,\n",
    "                                                  random_state=20,\n",
    "                                                  shuffle=True)"
   ]
  },
  {
   "cell_type": "markdown",
   "metadata": {},
   "source": [
    "### Building the CNN\n",
    "\n",
    "#### Define the model\n"
   ]
  },
  {
   "cell_type": "code",
   "execution_count": 251,
   "metadata": {
    "ExecuteTime": {
     "end_time": "2022-05-12T14:13:46.987067Z",
     "start_time": "2022-05-12T14:13:46.982215Z"
    }
   },
   "outputs": [],
   "source": [
    "model = Sequential()"
   ]
  },
  {
   "cell_type": "code",
   "execution_count": 252,
   "metadata": {
    "ExecuteTime": {
     "end_time": "2022-05-12T14:13:49.354997Z",
     "start_time": "2022-05-12T14:13:49.297221Z"
    }
   },
   "outputs": [],
   "source": [
    "model.add(Conv2D(filters = 32, \n",
    "                 kernel_size = (5, 5),\n",
    "                 padding = 'Same', \n",
    "                 activation ='relu',\n",
    "                 input_shape = (28, 28, 1)))\n",
    "model.add(Conv2D(filters = 32, \n",
    "                 kernel_size = (5,5),\n",
    "                 padding = 'Same', \n",
    "                 activation ='relu'))\n",
    "model.add(MaxPool2D(pool_size = (2, 2)))\n",
    "model.add(Dropout(0.25))"
   ]
  },
  {
   "cell_type": "code",
   "execution_count": 253,
   "metadata": {
    "ExecuteTime": {
     "end_time": "2022-05-12T14:13:49.850722Z",
     "start_time": "2022-05-12T14:13:49.797735Z"
    }
   },
   "outputs": [],
   "source": [
    "model.add(Conv2D(filters = 64, \n",
    "                 kernel_size = (3,3),\n",
    "                 padding = 'Same', \n",
    "                 activation ='relu'))\n",
    "model.add(Conv2D(filters = 64, \n",
    "                 kernel_size = (3,3),\n",
    "                 padding = 'Same', \n",
    "                 activation ='relu'))\n",
    "model.add(MaxPool2D(pool_size=(2,2)))\n",
    "model.add(Dropout(0.25))"
   ]
  },
  {
   "cell_type": "code",
   "execution_count": 254,
   "metadata": {
    "ExecuteTime": {
     "end_time": "2022-05-12T14:13:50.582005Z",
     "start_time": "2022-05-12T14:13:50.565085Z"
    }
   },
   "outputs": [],
   "source": [
    "model.add(Flatten())"
   ]
  },
  {
   "cell_type": "code",
   "execution_count": 255,
   "metadata": {
    "ExecuteTime": {
     "end_time": "2022-05-12T14:13:52.185361Z",
     "start_time": "2022-05-12T14:13:52.134028Z"
    }
   },
   "outputs": [],
   "source": [
    "model.add(Dense(256, activation = \"relu\"))\n",
    "model.add(Dropout(0.5))\n",
    "model.add(Dense(10, activation = \"softmax\"))"
   ]
  },
  {
   "cell_type": "markdown",
   "metadata": {},
   "source": [
    "#### Model summary"
   ]
  },
  {
   "cell_type": "code",
   "execution_count": 256,
   "metadata": {
    "ExecuteTime": {
     "end_time": "2022-05-12T14:13:56.033005Z",
     "start_time": "2022-05-12T14:13:56.021940Z"
    },
    "scrolled": true
   },
   "outputs": [
    {
     "name": "stdout",
     "output_type": "stream",
     "text": [
      "_________________________________________________________________\n",
      "Layer (type)                 Output Shape              Param #   \n",
      "=================================================================\n",
      "conv2d_17 (Conv2D)           (None, 28, 28, 32)        832       \n",
      "_________________________________________________________________\n",
      "conv2d_18 (Conv2D)           (None, 28, 28, 32)        25632     \n",
      "_________________________________________________________________\n",
      "max_pooling2d_9 (MaxPooling2 (None, 14, 14, 32)        0         \n",
      "_________________________________________________________________\n",
      "dropout_13 (Dropout)         (None, 14, 14, 32)        0         \n",
      "_________________________________________________________________\n",
      "conv2d_19 (Conv2D)           (None, 14, 14, 64)        18496     \n",
      "_________________________________________________________________\n",
      "conv2d_20 (Conv2D)           (None, 14, 14, 64)        36928     \n",
      "_________________________________________________________________\n",
      "max_pooling2d_10 (MaxPooling (None, 7, 7, 64)          0         \n",
      "_________________________________________________________________\n",
      "dropout_14 (Dropout)         (None, 7, 7, 64)          0         \n",
      "_________________________________________________________________\n",
      "flatten_5 (Flatten)          (None, 3136)              0         \n",
      "_________________________________________________________________\n",
      "dense_12 (Dense)             (None, 256)               803072    \n",
      "_________________________________________________________________\n",
      "dropout_15 (Dropout)         (None, 256)               0         \n",
      "_________________________________________________________________\n",
      "dense_13 (Dense)             (None, 10)                2570      \n",
      "=================================================================\n",
      "Total params: 887,530\n",
      "Trainable params: 887,530\n",
      "Non-trainable params: 0\n",
      "_________________________________________________________________\n"
     ]
    }
   ],
   "source": [
    "model.summary()"
   ]
  },
  {
   "cell_type": "markdown",
   "metadata": {},
   "source": [
    "### Set the optimizer and LR\n",
    "   - SGD - (stochastic gradient descent) randomly picks one data point from the whole data set at each iteration to reduce the computations enormously."
   ]
  },
  {
   "cell_type": "code",
   "execution_count": 257,
   "metadata": {
    "ExecuteTime": {
     "end_time": "2022-05-12T14:14:04.441147Z",
     "start_time": "2022-05-12T14:14:04.398892Z"
    }
   },
   "outputs": [],
   "source": [
    "model.compile(optimizer = SGD(lr=0.01), loss = \"categorical_crossentropy\", metrics=[\"accuracy\"])"
   ]
  },
  {
   "cell_type": "markdown",
   "metadata": {},
   "source": [
    "- ReduceLROnPlateau is used to reduce the learning rate by half if the accuracy is not improved after 3 epochs"
   ]
  },
  {
   "cell_type": "code",
   "execution_count": 258,
   "metadata": {
    "ExecuteTime": {
     "end_time": "2022-05-12T14:14:24.107985Z",
     "start_time": "2022-05-12T14:14:24.102648Z"
    }
   },
   "outputs": [],
   "source": [
    "learning_rate_reduction = ReduceLROnPlateau(monitor='val_acc', \n",
    "                                            patience=3, \n",
    "                                            verbose=1, \n",
    "                                            factor=0.5, \n",
    "                                            min_lr=0.00001)"
   ]
  },
  {
   "cell_type": "code",
   "execution_count": 259,
   "metadata": {
    "ExecuteTime": {
     "end_time": "2022-05-12T14:14:24.529976Z",
     "start_time": "2022-05-12T14:14:24.525898Z"
    }
   },
   "outputs": [],
   "source": [
    "epochs = 40\n",
    "batch_size = 64"
   ]
  },
  {
   "cell_type": "markdown",
   "metadata": {},
   "source": [
    "### Data augmentation"
   ]
  },
  {
   "cell_type": "code",
   "execution_count": 260,
   "metadata": {
    "ExecuteTime": {
     "end_time": "2022-05-12T14:14:26.142139Z",
     "start_time": "2022-05-12T14:14:25.971854Z"
    }
   },
   "outputs": [],
   "source": [
    "datagen = ImageDataGenerator(\n",
    "        rotation_range=10,  # randomly rotate images in the range (degrees, 0 to 180)\n",
    "        zoom_range = 0.1, # randomly zoom image \n",
    "        width_shift_range=0.1,  # randomly shift images horizontally (fraction of total width)\n",
    "        height_shift_range=0.1,  # randomly shift images vertically (fraction of total height)\n",
    "        horizontal_flip=False,  \n",
    "        vertical_flip=False \n",
    ") \n",
    "\n",
    "datagen.fit(x_train)"
   ]
  },
  {
   "cell_type": "markdown",
   "metadata": {},
   "source": [
    "### Fitting the model to train the data"
   ]
  },
  {
   "cell_type": "code",
   "execution_count": 261,
   "metadata": {
    "ExecuteTime": {
     "end_time": "2022-05-12T14:18:07.823144Z",
     "start_time": "2022-05-12T14:14:32.465670Z"
    },
    "scrolled": true
   },
   "outputs": [
    {
     "name": "stdout",
     "output_type": "stream",
     "text": [
      "Epoch 1/40\n",
      "492/492 [==============================] - 6s 12ms/step - loss: 2.0028 - acc: 0.2775 - val_loss: 0.7306 - val_acc: 0.8165\n",
      "Epoch 2/40\n",
      "492/492 [==============================] - 5s 11ms/step - loss: 0.8714 - acc: 0.7099 - val_loss: 0.2063 - val_acc: 0.9462\n",
      "Epoch 3/40\n",
      "492/492 [==============================] - 5s 11ms/step - loss: 0.4918 - acc: 0.8452 - val_loss: 0.1341 - val_acc: 0.9623\n",
      "Epoch 4/40\n",
      "492/492 [==============================] - 5s 11ms/step - loss: 0.3678 - acc: 0.8848 - val_loss: 0.1105 - val_acc: 0.9675\n",
      "Epoch 5/40\n",
      "492/492 [==============================] - 5s 11ms/step - loss: 0.3058 - acc: 0.9078 - val_loss: 0.0934 - val_acc: 0.9733\n",
      "Epoch 6/40\n",
      "492/492 [==============================] - 5s 11ms/step - loss: 0.2721 - acc: 0.9167 - val_loss: 0.0868 - val_acc: 0.9743\n",
      "Epoch 7/40\n",
      "492/492 [==============================] - 5s 11ms/step - loss: 0.2374 - acc: 0.9279 - val_loss: 0.0857 - val_acc: 0.9740\n",
      "Epoch 8/40\n",
      "492/492 [==============================] - 5s 11ms/step - loss: 0.2181 - acc: 0.9328 - val_loss: 0.0752 - val_acc: 0.9771\n",
      "Epoch 9/40\n",
      "492/492 [==============================] - 5s 11ms/step - loss: 0.2096 - acc: 0.9365 - val_loss: 0.0695 - val_acc: 0.9786\n",
      "Epoch 10/40\n",
      "492/492 [==============================] - 5s 11ms/step - loss: 0.1904 - acc: 0.9417 - val_loss: 0.0718 - val_acc: 0.9789\n",
      "Epoch 11/40\n",
      "492/492 [==============================] - 5s 11ms/step - loss: 0.1814 - acc: 0.9444 - val_loss: 0.0624 - val_acc: 0.9815\n",
      "Epoch 12/40\n",
      "492/492 [==============================] - 5s 11ms/step - loss: 0.1713 - acc: 0.9481 - val_loss: 0.0599 - val_acc: 0.9810\n",
      "Epoch 13/40\n",
      "492/492 [==============================] - 5s 11ms/step - loss: 0.1646 - acc: 0.9505 - val_loss: 0.0585 - val_acc: 0.9820\n",
      "Epoch 14/40\n",
      "492/492 [==============================] - 5s 11ms/step - loss: 0.1552 - acc: 0.9531 - val_loss: 0.0604 - val_acc: 0.9827\n",
      "Epoch 15/40\n",
      "492/492 [==============================] - 5s 11ms/step - loss: 0.1520 - acc: 0.9539 - val_loss: 0.0555 - val_acc: 0.9832\n",
      "Epoch 16/40\n",
      "492/492 [==============================] - 6s 11ms/step - loss: 0.1405 - acc: 0.9578 - val_loss: 0.0541 - val_acc: 0.9824\n",
      "Epoch 17/40\n",
      "492/492 [==============================] - 6s 12ms/step - loss: 0.1385 - acc: 0.9590 - val_loss: 0.0516 - val_acc: 0.9841\n",
      "Epoch 18/40\n",
      "492/492 [==============================] - 5s 11ms/step - loss: 0.1334 - acc: 0.9589 - val_loss: 0.0507 - val_acc: 0.9844\n",
      "Epoch 19/40\n",
      "492/492 [==============================] - 6s 11ms/step - loss: 0.1307 - acc: 0.9608 - val_loss: 0.0502 - val_acc: 0.9847\n",
      "Epoch 20/40\n",
      "492/492 [==============================] - 5s 11ms/step - loss: 0.1256 - acc: 0.9634 - val_loss: 0.0479 - val_acc: 0.9852\n",
      "Epoch 21/40\n",
      "492/492 [==============================] - 5s 11ms/step - loss: 0.1209 - acc: 0.9628 - val_loss: 0.0477 - val_acc: 0.9857\n",
      "Epoch 22/40\n",
      "492/492 [==============================] - 5s 11ms/step - loss: 0.1197 - acc: 0.9634 - val_loss: 0.0467 - val_acc: 0.9859\n",
      "Epoch 23/40\n",
      "492/492 [==============================] - 5s 11ms/step - loss: 0.1153 - acc: 0.9654 - val_loss: 0.0439 - val_acc: 0.9862\n",
      "Epoch 24/40\n",
      "492/492 [==============================] - 5s 11ms/step - loss: 0.1102 - acc: 0.9664 - val_loss: 0.0440 - val_acc: 0.9864\n",
      "Epoch 25/40\n",
      "492/492 [==============================] - 5s 11ms/step - loss: 0.1101 - acc: 0.9671 - val_loss: 0.0438 - val_acc: 0.9855\n",
      "Epoch 26/40\n",
      "492/492 [==============================] - 5s 11ms/step - loss: 0.1065 - acc: 0.9693 - val_loss: 0.0407 - val_acc: 0.9879\n",
      "Epoch 27/40\n",
      "492/492 [==============================] - 5s 11ms/step - loss: 0.1072 - acc: 0.9678 - val_loss: 0.0421 - val_acc: 0.9877\n",
      "Epoch 28/40\n",
      "492/492 [==============================] - 5s 11ms/step - loss: 0.0984 - acc: 0.9706 - val_loss: 0.0412 - val_acc: 0.9875\n",
      "Epoch 29/40\n",
      "492/492 [==============================] - 5s 11ms/step - loss: 0.0988 - acc: 0.9705 - val_loss: 0.0400 - val_acc: 0.9874\n",
      "\n",
      "Epoch 00029: ReduceLROnPlateau reducing learning rate to 0.004999999888241291.\n",
      "Epoch 30/40\n",
      "492/492 [==============================] - 5s 11ms/step - loss: 0.0970 - acc: 0.9712 - val_loss: 0.0396 - val_acc: 0.9873\n",
      "Epoch 31/40\n",
      "492/492 [==============================] - 5s 11ms/step - loss: 0.0960 - acc: 0.9713 - val_loss: 0.0391 - val_acc: 0.9879\n",
      "Epoch 32/40\n",
      "492/492 [==============================] - 5s 11ms/step - loss: 0.0932 - acc: 0.9723 - val_loss: 0.0371 - val_acc: 0.9888\n",
      "Epoch 33/40\n",
      "492/492 [==============================] - 5s 11ms/step - loss: 0.0952 - acc: 0.9714 - val_loss: 0.0391 - val_acc: 0.9884\n",
      "Epoch 34/40\n",
      "492/492 [==============================] - 5s 11ms/step - loss: 0.0886 - acc: 0.9731 - val_loss: 0.0391 - val_acc: 0.9885\n",
      "Epoch 35/40\n",
      "492/492 [==============================] - 5s 11ms/step - loss: 0.0896 - acc: 0.9720 - val_loss: 0.0373 - val_acc: 0.9886\n",
      "\n",
      "Epoch 00035: ReduceLROnPlateau reducing learning rate to 0.0024999999441206455.\n",
      "Epoch 36/40\n",
      "492/492 [==============================] - 5s 11ms/step - loss: 0.0915 - acc: 0.9736 - val_loss: 0.0360 - val_acc: 0.9888\n",
      "Epoch 37/40\n",
      "492/492 [==============================] - 5s 11ms/step - loss: 0.0839 - acc: 0.9737 - val_loss: 0.0370 - val_acc: 0.9886\n",
      "Epoch 38/40\n",
      "492/492 [==============================] - 5s 11ms/step - loss: 0.0863 - acc: 0.9741 - val_loss: 0.0361 - val_acc: 0.9891\n",
      "Epoch 39/40\n",
      "492/492 [==============================] - 5s 11ms/step - loss: 0.0822 - acc: 0.9742 - val_loss: 0.0359 - val_acc: 0.9884\n",
      "Epoch 40/40\n",
      "492/492 [==============================] - 5s 11ms/step - loss: 0.0852 - acc: 0.9732 - val_loss: 0.0352 - val_acc: 0.9886\n"
     ]
    }
   ],
   "source": [
    "history = model.fit_generator(datagen.flow(x_train, \n",
    "                                           y_train, \n",
    "                                           batch_size=batch_size),\n",
    "                              epochs = epochs, \n",
    "                              validation_data = (x_val, y_val),\n",
    "                              verbose = 1, \n",
    "                              steps_per_epoch=x_train.shape[0] // batch_size,\n",
    "                              callbacks=[learning_rate_reduction])"
   ]
  },
  {
   "cell_type": "code",
   "execution_count": 262,
   "metadata": {
    "ExecuteTime": {
     "end_time": "2022-05-12T14:18:08.381729Z",
     "start_time": "2022-05-12T14:18:07.826714Z"
    }
   },
   "outputs": [
    {
     "data": {
      "image/png": "[encoded data removed]",
      "text/plain": [
       "<Figure size 432x288 with 2 Axes>"
      ]
     },
     "metadata": {},
     "output_type": "display_data"
    }
   ],
   "source": [
    "fig, ax = plt.subplots(2,1)\n",
    "ax[0].plot(history.history['loss'], color='b', label=\"Training loss\")\n",
    "ax[0].plot(history.history['val_loss'], color='r', label=\"Validation loss\",axes =ax[0])\n",
    "legend = ax[0].legend(loc='best', shadow=True)\n",
    "\n",
    "ax[1].plot(history.history['acc'], color='b', label=\"Training accuracy\")\n",
    "ax[1].plot(history.history['val_acc'], color='r',label=\"Validation accuracy\")\n",
    "legend = ax[1].legend(loc='best', shadow=True)"
   ]
  },
  {
   "cell_type": "code",
   "execution_count": 263,
   "metadata": {
    "ExecuteTime": {
     "end_time": "2022-05-12T14:18:33.158007Z",
     "start_time": "2022-05-12T14:18:32.263593Z"
    }
   },
   "outputs": [],
   "source": [
    "preds = model.predict(x_val)\n",
    "pred_classes = np.argmax(preds, axis = 1) \n",
    "y_true = np.argmax(y_val, axis = 1) \n",
    "mat = confusion_matrix(y_true, pred_classes) \n",
    "mat2 = np.zeros((10, 10,))\n",
    "\n",
    "for i in range(10):\n",
    "    sm = sum(mat[i]) \n",
    "    for j in range(10):\n",
    "        x = mat[i][j] / sm\n",
    "        mat2[i][j] = x"
   ]
  },
  {
   "cell_type": "code",
   "execution_count": 264,
   "metadata": {
    "ExecuteTime": {
     "end_time": "2022-05-12T14:18:33.764764Z",
     "start_time": "2022-05-12T14:18:33.757132Z"
    }
   },
   "outputs": [
    {
     "data": {
      "text/plain": [
       "array([0.00000096, 0.        , 0.99988616, 0.00008696, 0.        ,\n",
       "       0.        , 0.00000002, 0.00000027, 0.00002557, 0.        ],\n",
       "      dtype=float32)"
      ]
     },
     "execution_count": 264,
     "metadata": {},
     "output_type": "execute_result"
    }
   ],
   "source": [
    "preds[0]"
   ]
  },
  {
   "cell_type": "code",
   "execution_count": 265,
   "metadata": {
    "ExecuteTime": {
     "end_time": "2022-05-12T14:18:55.768406Z",
     "start_time": "2022-05-12T14:18:55.761698Z"
    }
   },
   "outputs": [],
   "source": [
    "import pandas as pd\n",
    "mat2_arr = np.array(mat2)\n",
    "labels = ['0', '1', '2', '3', '4', '5', '6', '7', '8', '9']\n",
    "conf_mat_test = pd.DataFrame(data=mat2_arr, columns=labels, index=labels)"
   ]
  },
  {
   "cell_type": "code",
   "execution_count": 266,
   "metadata": {
    "ExecuteTime": {
     "end_time": "2022-05-12T14:18:57.343060Z",
     "start_time": "2022-05-12T14:18:56.668529Z"
    }
   },
   "outputs": [
    {
     "data": {
      "text/plain": [
       "<matplotlib.axes._subplots.AxesSubplot at 0x7fa26c3db470>"
      ]
     },
     "execution_count": 266,
     "metadata": {},
     "output_type": "execute_result"
    },
    {
     "data": {
      "image/png": "[encoded data removed]",
      "text/plain": [
       "<Figure size 1080x1080 with 2 Axes>"
      ]
     },
     "metadata": {},
     "output_type": "display_data"
    }
   ],
   "source": [
    "import matplotlib.pyplot as plt\n",
    "\n",
    "fig, ax = plt.subplots(figsize=(15, 15))\n",
    "sns.heatmap(conf_mat_test, annot=True, linewidths=.5, ax=ax, fmt='.2%')"
   ]
  },
  {
   "cell_type": "code",
   "execution_count": 267,
   "metadata": {
    "ExecuteTime": {
     "end_time": "2022-05-12T14:19:43.689353Z",
     "start_time": "2022-05-12T14:19:41.191536Z"
    }
   },
   "outputs": [
    {
     "name": "stdout",
     "output_type": "stream",
     "text": [
      "31500/31500 [==============================] - 2s 79us/step\n"
     ]
    },
    {
     "data": {
      "text/plain": [
       "[0.024674122712382722, 0.9923809523809524]"
      ]
     },
     "execution_count": 267,
     "metadata": {},
     "output_type": "execute_result"
    }
   ],
   "source": [
    "model.evaluate(x_train, y_train)"
   ]
  },
  {
   "cell_type": "code",
   "execution_count": 269,
   "metadata": {
    "ExecuteTime": {
     "end_time": "2022-05-12T14:20:42.128931Z",
     "start_time": "2022-05-12T14:20:41.325581Z"
    }
   },
   "outputs": [
    {
     "name": "stdout",
     "output_type": "stream",
     "text": [
      "10500/10500 [==============================] - 1s 76us/step\n"
     ]
    },
    {
     "data": {
      "text/plain": [
       "[0.0352285335339312, 0.9885714285714285]"
      ]
     },
     "execution_count": 269,
     "metadata": {},
     "output_type": "execute_result"
    }
   ],
   "source": [
    "model.evaluate(x_val, y_val)"
   ]
  },
  {
   "cell_type": "markdown",
   "metadata": {},
   "source": [
    "### Errors in prediction"
   ]
  },
  {
   "cell_type": "markdown",
   "metadata": {},
   "source": [
    "Errors are difference between predicted labels and true labels.\n"
   ]
  },
  {
   "cell_type": "code",
   "execution_count": 270,
   "metadata": {
    "ExecuteTime": {
     "end_time": "2022-05-12T14:20:51.004570Z",
     "start_time": "2022-05-12T14:20:50.997304Z"
    }
   },
   "outputs": [],
   "source": [
    "errors = (pred_classes - y_true != 0) \n",
    "pred_classes_errors = pred_classes[errors]\n",
    "pred_errors = preds[errors]\n",
    "y_true_errors = y_true[errors]\n",
    "x_val_errors = x_val[errors]"
   ]
  },
  {
   "cell_type": "markdown",
   "metadata": {},
   "source": [
    "Compute the probabilities of the wrong predicted numbers."
   ]
  },
  {
   "cell_type": "code",
   "execution_count": 271,
   "metadata": {
    "ExecuteTime": {
     "end_time": "2022-05-12T14:20:51.668872Z",
     "start_time": "2022-05-12T14:20:51.664133Z"
    }
   },
   "outputs": [],
   "source": [
    "y_pred_errors_prob = np.max(pred_errors, axis = 1) "
   ]
  },
  {
   "cell_type": "markdown",
   "metadata": {},
   "source": [
    "Compute predicted probabilities of the true values in the error set."
   ]
  },
  {
   "cell_type": "code",
   "execution_count": 272,
   "metadata": {
    "ExecuteTime": {
     "end_time": "2022-05-12T14:20:52.185655Z",
     "start_time": "2022-05-12T14:20:52.180654Z"
    }
   },
   "outputs": [],
   "source": [
    "true_prob_errors = np.diagonal(np.take(pred_errors, y_true_errors, axis=1)) "
   ]
  },
  {
   "cell_type": "markdown",
   "metadata": {},
   "source": [
    "Compute the difference between the probability of the predicted label and the true label."
   ]
  },
  {
   "cell_type": "code",
   "execution_count": 273,
   "metadata": {
    "ExecuteTime": {
     "end_time": "2022-05-12T14:20:53.923952Z",
     "start_time": "2022-05-12T14:20:53.919333Z"
    }
   },
   "outputs": [],
   "source": [
    "delta_pred_true_errors = y_pred_errors_prob - true_prob_errors"
   ]
  },
  {
   "cell_type": "markdown",
   "metadata": {
    "ExecuteTime": {
     "end_time": "2022-05-12T06:44:14.796306Z",
     "start_time": "2022-05-12T06:44:14.789768Z"
    }
   },
   "source": [
    "Sort the list of the delta probability errors.\n"
   ]
  },
  {
   "cell_type": "code",
   "execution_count": 274,
   "metadata": {
    "ExecuteTime": {
     "end_time": "2022-05-12T14:20:54.729649Z",
     "start_time": "2022-05-12T14:20:54.725076Z"
    }
   },
   "outputs": [],
   "source": [
    "sorted_dela_errors = np.argsort(delta_pred_true_errors)"
   ]
  },
  {
   "cell_type": "markdown",
   "metadata": {},
   "source": [
    "Analyse top 6 errors."
   ]
  },
  {
   "cell_type": "code",
   "execution_count": 275,
   "metadata": {
    "ExecuteTime": {
     "end_time": "2022-05-12T14:20:55.569427Z",
     "start_time": "2022-05-12T14:20:55.566311Z"
    }
   },
   "outputs": [],
   "source": [
    "most_important_errors = sorted_dela_errors[-6:]"
   ]
  },
  {
   "cell_type": "code",
   "execution_count": 278,
   "metadata": {
    "ExecuteTime": {
     "end_time": "2022-05-12T14:22:40.709340Z",
     "start_time": "2022-05-12T14:22:40.698730Z"
    }
   },
   "outputs": [],
   "source": [
    "def display_errors(errors_index, img_errors, pred_errors, obs_errors):\n",
    "    n = 0\n",
    "    nrows = 2\n",
    "    ncols = 3\n",
    "    fig, ax = plt.subplots(nrows,\n",
    "                           ncols,\n",
    "                           sharex=True,\n",
    "                           sharey=True, figsize=(15, 15))\n",
    "\n",
    "    for row in range(nrows):\n",
    "        for col in range(ncols):\n",
    "            error = errors_index[n]\n",
    "            ax[row,col].imshow((img_errors[error]).reshape((28,28)), cmap='gray')\n",
    "            ax[row,col].set_title(\"Predicted label :{}\\nTrue label :{}\".format(pred_errors[error],\n",
    "                                                                               obs_errors[error]))\n",
    "            n += 1"
   ]
  },
  {
   "cell_type": "code",
   "execution_count": 279,
   "metadata": {
    "ExecuteTime": {
     "end_time": "2022-05-12T14:22:42.415220Z",
     "start_time": "2022-05-12T14:22:41.277931Z"
    }
   },
   "outputs": [
    {
     "data": {
      "image/png": "[encoded data removed]",
      "text/plain": [
       "<Figure size 1080x1080 with 6 Axes>"
      ]
     },
     "metadata": {},
     "output_type": "display_data"
    }
   ],
   "source": [
    "display_errors(most_important_errors, x_val_errors, pred_classes_errors, y_true_errors)"
   ]
  },
  {
   "cell_type": "code",
   "execution_count": null,
   "metadata": {},
   "outputs": [],
   "source": []
  }
 ],
 "metadata": {
  "kernelspec": {
   "display_name": "Python 3 (ipykernel)",
   "language": "python",
   "name": "python3"
  },
  "language_info": {
   "codemirror_mode": {
    "name": "ipython",
    "version": 3
   },
   "file_extension": ".py",
   "mimetype": "text/x-python",
   "name": "python",
   "nbconvert_exporter": "python",
   "pygments_lexer": "ipython3",
   "version": "3.10.7"
  },
  "toc": {
   "base_numbering": 1,
   "nav_menu": {},
   "number_sections": true,
   "sideBar": true,
   "skip_h1_title": false,
   "title_cell": "Table of Contents",
   "title_sidebar": "Contents",
   "toc_cell": false,
   "toc_position": {},
   "toc_section_display": true,
   "toc_window_display": true
  }
 },
 "nbformat": 4,
 "nbformat_minor": 4
}
