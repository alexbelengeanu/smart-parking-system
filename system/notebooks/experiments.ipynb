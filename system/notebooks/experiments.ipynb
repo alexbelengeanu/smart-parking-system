{
 "cells": [
  {
   "cell_type": "code",
   "execution_count": 29,
   "id": "040a523b-c039-4afb-bcbb-736c5846212b",
   "metadata": {},
   "outputs": [],
   "source": [
    "import hydra\n",
    "import os\n",
    "from omegaconf import OmegaConf\n",
    "from hydra.utils import get_original_cwd"
   ]
  },
  {
   "cell_type": "code",
   "execution_count": 38,
   "id": "75fc99ef-b1e8-47e0-8207-cc18c532f5b4",
   "metadata": {},
   "outputs": [],
   "source": [
    "@hydra.main(config_path='conf', config_name='config.yaml', version_base=\"1.2\")\n",
    "def main(config):\n",
    "    print(get_original_cwd())"
   ]
  },
  {
   "cell_type": "code",
   "execution_count": 33,
   "id": "28e730a3-728b-408a-8641-a325587e0ae1",
   "metadata": {},
   "outputs": [
    {
     "data": {
      "text/plain": [
       "'E:\\\\GitHub\\\\smart-parking-system\\\\system\\\\notebooks'"
      ]
     },
     "execution_count": 33,
     "metadata": {},
     "output_type": "execute_result"
    }
   ],
   "source": [
    "os.getcwd()"
   ]
  },
  {
   "cell_type": "code",
   "execution_count": 39,
   "id": "a657ede4-d9b3-4c21-a254-1b851e9f06df",
   "metadata": {},
   "outputs": [
    {
     "name": "stderr",
     "output_type": "stream",
     "text": [
      "usage: ipykernel_launcher.py [--help] [--hydra-help] [--version] [--cfg {job,hydra,all}] [--resolve] [--package PACKAGE] [--run] [--multirun] [--shell-completion]\n",
      "                             [--config-path CONFIG_PATH] [--config-name CONFIG_NAME] [--config-dir CONFIG_DIR] [--experimental-rerun EXPERIMENTAL_RERUN]\n",
      "                             [--info [{all,config,defaults,defaults-tree,plugins,searchpath}]]\n",
      "                             [overrides ...]\n",
      "ipykernel_launcher.py: error: unrecognized arguments: -f\n"
     ]
    },
    {
     "ename": "SystemExit",
     "evalue": "2",
     "output_type": "error",
     "traceback": [
      "An exception has occurred, use %tb to see the full traceback.\n",
      "\u001b[1;31mSystemExit\u001b[0m\u001b[1;31m:\u001b[0m 2\n"
     ]
    }
   ],
   "source": [
    "main()"
   ]
  },
  {
   "cell_type": "code",
   "execution_count": null,
   "id": "84da7a30-42d4-4923-8316-1aecf7c42fb8",
   "metadata": {},
   "outputs": [],
   "source": []
  }
 ],
 "metadata": {
  "kernelspec": {
   "display_name": "Python 3 (ipykernel)",
   "language": "python",
   "name": "python3"
  },
  "language_info": {
   "codemirror_mode": {
    "name": "ipython",
    "version": 3
   },
   "file_extension": ".py",
   "mimetype": "text/x-python",
   "name": "python",
   "nbconvert_exporter": "python",
   "pygments_lexer": "ipython3",
   "version": "3.10.7"
  }
 },
 "nbformat": 4,
 "nbformat_minor": 5
}
